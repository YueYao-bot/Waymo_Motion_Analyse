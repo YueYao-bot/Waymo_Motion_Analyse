{
 "cells": [
  {
   "cell_type": "code",
   "execution_count": 1,
   "id": "af79947c-2b5e-48a3-97cc-8035ad1327e2",
   "metadata": {},
   "outputs": [],
   "source": [
    "import os\n",
    "import json\n",
    "from tqdm.auto import tqdm\n",
    "import numpy as np\n",
    "import tensorflow as tf\n",
    "import utils\n",
    "\n",
    "from waymo_open_dataset.protos import scenario_pb2\n",
    "\n",
    "import matplotlib.pyplot as plt\n",
    "\n",
    "from pykalman import KalmanFilter\n",
    "\n",
    "np.random.seed(7)"
   ]
  },
  {
   "cell_type": "markdown",
   "id": "77e4a053-8a86-4b91-9776-e9091b26f569",
   "metadata": {},
   "source": [
    "# Step 1: Transform Data to Numpy Array (3 hours)"
   ]
  },
  {
   "cell_type": "code",
   "execution_count": null,
   "id": "8e872905-9d9e-4a1c-86ad-7db8a92fee18",
   "metadata": {},
   "outputs": [],
   "source": [
    "FILENAME = \"data/train/\"\n",
    "\n",
    "path_list = [] # lists all tfrecord files\n",
    "\n",
    "for root, dirs, files in os.walk(os.path.abspath(FILENAME)):\n",
    "    files.sort()\n",
    "    for file in files:\n",
    "        path_list.append(os.path.join(root, file))"
   ]
  },
  {
   "cell_type": "code",
   "execution_count": 5,
   "id": "5359f775-f48c-44fc-9bcf-296d44851733",
   "metadata": {},
   "outputs": [
    {
     "data": {
      "application/vnd.jupyter.widget-view+json": {
       "model_id": "863f7ef87302419cb0f7760087dae584",
       "version_major": 2,
       "version_minor": 0
      },
      "text/plain": [
       "  0%|          | 0/150 [00:00<?, ?it/s]"
      ]
     },
     "metadata": {},
     "output_type": "display_data"
    },
    {
     "name": "stdout",
     "output_type": "stream",
     "text": [
      "finish\n",
      "44097 161788\n"
     ]
    }
   ],
   "source": [
    "object_type = 'vehicle'\n",
    "object_type_id = None\n",
    "\n",
    "if object_type == 'vehicle':\n",
    "    object_type_id = 1\n",
    "elif object_type == 'pedestrain': \n",
    "    object_type_id = 2\n",
    "elif object_type == 'cyclist':\n",
    "    object_type_id = 3\n",
    "    \n",
    "agt_save_path = 'data/' + object_type + '/agt_trajs_json/'\n",
    "ego_save_path = 'data/ego_trajs_json/'\n",
    "if not os.path.exists(agt_save_path):\n",
    "    os.makedirs(agt_save_path)\n",
    "if not os.path.exists(ego_save_path):\n",
    "    os.makedirs(ego_save_path)\n",
    "\n",
    "# function to unpack the recorded data\n",
    "def process_Data(filename): \n",
    "    i_ego, i_agt = 0, 0\n",
    "\n",
    "    dataset = tf.data.TFRecordDataset(filename)\n",
    "    \n",
    "    for data in dataset:\n",
    "        ego_sub_data = {'filename': os.path.split(filename)[-1], 'scenario_id': None, 'timestamp': None, 'ego_traj': None}\n",
    "        \n",
    "        proto_string = data.numpy()\n",
    "        proto = scenario_pb2.Scenario()\n",
    "        proto.ParseFromString(proto_string)        \n",
    "\n",
    "        ego_traj = np.array([[state.center_x, state.center_y,state.center_z, state.heading, state.velocity_x, state.velocity_y]for state in proto.tracks[proto.sdc_track_index].states]).astype(np.float32)\n",
    "        \n",
    "        ego_sub_data['scenario_id'] = proto.scenario_id\n",
    "        ego_sub_data['timestamp'] = np.array(proto.timestamps_seconds).astype(np.float32)\n",
    "        ego_sub_data['ego_traj'] = ego_traj\n",
    "\n",
    "        \n",
    "        with open(ego_save_path+ os.path.split(filename)[-1]+ '_' + str(i_ego).zfill(5)+ '.json', \"w\") as write_file:\n",
    "            json.dump(ego_sub_data, write_file, cls=utils.NumpyEncoder)\n",
    "        \n",
    "        i_ego = i_ego + 1\n",
    "        \n",
    "        for track in proto.tracks_to_predict:\n",
    "            if proto.tracks[track.track_index].object_type == object_type_id and track.track_index != proto.sdc_track_index: # agt should not be ego\n",
    "                agt_sub_data = {'filename': os.path.split(filename)[-1], 'scenario_id': proto.scenario_id, 'timestamp': None, 'ego_traj': ego_traj, 'agt_traj': None}\n",
    "                agt_traj = np.array([[state.center_x, state.center_y,state.center_z, state.heading, state.velocity_x, state.velocity_y] for state in proto.tracks[track.track_index].states]).astype(np.float32)\n",
    "               \n",
    "                agt_sub_data['timestamp'] = np.array(proto.timestamps_seconds).astype(np.float32)\n",
    "                agt_sub_data['agt_traj'] = agt_traj\n",
    "                \n",
    "                with open(save_path + os.path.split(filename)[-1]+ '_' + str(i_ego).zfill(5) + '_' + str(i_agt).zfill(5)+ '.json', \"w\") as write_file:\n",
    "                    json.dump(agt_sub_data, write_file, cls=utils.NumpyEncoder)\n",
    "                i_agt = i_agt+1\n",
    "            \n",
    "    return  i_ego, i_agt\n",
    "\n",
    "i_e, i_a = 0, 0\n",
    "for k in tqdm(path_list):\n",
    "    i_ego_sub, i_agt_sub = process_Data(k) \n",
    "    i_e = i_e + i_ego_sub\n",
    "    i_a = i_a + i_agt_sub\n",
    "print('finish')\n",
    "print('number of ego trajs:', i_e, 'number of agt trajs:', i_a)"
   ]
  },
  {
   "cell_type": "markdown",
   "id": "ed499ee6-0e56-4359-a37c-cce962c9b064",
   "metadata": {},
   "source": [
    "# Step 2: Preprocessing Ego Trajectories (Smoothing)"
   ]
  },
  {
   "cell_type": "code",
   "execution_count": 6,
   "id": "af0614a2-ee14-4a4d-8a68-4867fdc76d1a",
   "metadata": {},
   "outputs": [],
   "source": [
    "ego_path_list = []\n",
    "\n",
    "for root, dirs, files in os.walk(os.path.abspath('data/ego_trajs_json/')):\n",
    "    files.sort()\n",
    "    for file in files:\n",
    "        ego_path_list.append(os.path.join(root, file))"
   ]
  },
  {
   "cell_type": "code",
   "execution_count": 8,
   "id": "0eb5c82b-65c1-43e6-b5b4-a0b31ff0b054",
   "metadata": {
    "tags": []
   },
   "outputs": [
    {
     "name": "stdout",
     "output_type": "stream",
     "text": [
      "91\n"
     ]
    },
    {
     "data": {
      "application/vnd.jupyter.widget-view+json": {
       "model_id": "b60b8912b57d45cf95cd7bc39c459cde",
       "version_major": 2,
       "version_minor": 0
      },
      "text/plain": [
       "  0%|          | 0/487002 [00:00<?, ?it/s]"
      ]
     },
     "metadata": {},
     "output_type": "display_data"
    },
    {
     "name": "stdout",
     "output_type": "stream",
     "text": [
      "0 0 0 0\n"
     ]
    }
   ],
   "source": [
    "origin_num_points_in_traj = 91 # We have 91 sample points in one 9s trajectory\n",
    "num_points_in_trajs = [91, 81, 71, 61, 51,41,31,21,11] # Target Number of points after splitting\n",
    "\n",
    "for num_points_in_traj in num_points_in_trajs:\n",
    "    print(num_points_in_traj)\n",
    "    np.random.seed(7)\n",
    "    posterior_means = np.zeros((len(path_list), num_points_in_traj, 6))\n",
    "    posterior_a_lon = np.zeros((len(path_list), num_points_in_traj))\n",
    "\n",
    "    outlier_idx_acc = []\n",
    "    outlier_idx_time = []\n",
    "    outlier_idx_pos = []\n",
    "    outlier_idx_not_moving = []\n",
    "    outlier_idx = []\n",
    "    start_point_indicies = []\n",
    "    \n",
    "    \n",
    "    # Initializing Kalman Smoother Parameters\n",
    "    R = np.diag([0.005, 0.005, 0.1, 0.1]) # Observation Cov\n",
    "    initial_state_mean = np.zeros(6)\n",
    "    initial_state_covariance = np.diag(np.array([R[0, 0], R[2, 2], 10, R[1, 1], R[3, 3], 10]))\n",
    "\n",
    "    dt = 0.1\n",
    "\n",
    "    observation_matrix = np.array([[1, 0, 0, 0, 0, 0],\n",
    "                                   [0, 0, 0, 1, 0, 0],\n",
    "                                   [0, 1, 0, 0, 0, 0],\n",
    "                                   [0, 0, 0, 0, 1, 0]])\n",
    "\n",
    "    Q = np.kron(np.eye(2), np.array([[(dt**5)/20, (dt**4)/8, (dt**3)/6],\n",
    "                          [(dt**4)/8,  (dt**3)/3, (dt**2)/2],\n",
    "                          [(dt**3)/6,  (dt**2)/2, dt]]).astype(np.float32)) # Process Cov\n",
    "    \n",
    "    parameter = {'R': np.diag(R), 'init_cov':np.diag(initial_state_covariance), 'q': 1}\n",
    "\n",
    "    for idx, path in enumerate(tqdm(ego_path_list)):\n",
    "        T, traj, start_point_idx = utils.extract_traj_data(file_path=path, target_num_of_points=num_points_in_traj , traj_type = 'ego_traj')\n",
    "        start_point_indicies.append(start_point_idx)\n",
    "\n",
    "        dT = T[1:] - T[:-1]\n",
    "\n",
    "        transition_matrices = [np.kron(np.eye(2), np.array([[1, dt, 0.5* (dt**2)], \n",
    "                                                             [0, 1, dt],\n",
    "                                                             [0, 0, 1]])) for dt in dT]\n",
    "\n",
    "        initial_state_mean[1] = traj[0,2]\n",
    "        initial_state_mean[4] = traj[0,3]\n",
    "\n",
    "\n",
    "        kf = KalmanFilter(transition_matrices = transition_matrices, observation_matrices = observation_matrix, transition_covariance = Q,\n",
    "                      observation_covariance = R, initial_state_mean = initial_state_mean, initial_state_covariance = initial_state_covariance)\n",
    "\n",
    "        smoothed_state_means, smoothed_state_covariances  = kf.smooth(traj)\n",
    "\n",
    "        v_xy = smoothed_state_means[:, [1, 4]]\n",
    "        a_xy = smoothed_state_means[:, [2, 5]]\n",
    "        \n",
    "        # Calculate longitudinal acceleration based on velocity vector\n",
    "        a_lon = np.array([np.dot(a ,v) / np.linalg.norm(v) for a, v in zip(a_xy.reshape(-1,2), v_xy.reshape(-1,2))])\n",
    "        \n",
    "        a_lon = a_lon.reshape(-1, num_points_in_traj)\n",
    "\n",
    "        posterior_means[idx] = smoothed_state_means\n",
    "        posterior_a_lon[idx] = a_lon\n",
    "        \n",
    "        # Find outlier with unfeasible acceleration and deceleration\n",
    "        outlier_points_acc = np.argwhere((a_lon > 6) |(a_lon < -9.8))\n",
    "        if outlier_points_acc.shape[0] > 0:\n",
    "            outlier_idx_acc.append(idx)\n",
    "        \n",
    "        # Find outlier with high deviation between ks outout and measurement\n",
    "        delta_pos_max = np.amax(np.linalg.norm(traj[:,[0,1]] - smoothed_state_means[:, [0,3]], axis=1))\n",
    "        \n",
    "        if delta_pos_max >2:\n",
    "            outlier_idx_pos.append(idx)\n",
    "            \n",
    "        # Find not moving outlier    \n",
    "        moving_d = np.linalg.norm(traj[-1, :2])\n",
    "        \n",
    "        if moving_d <= 0.5:\n",
    "            outlier_idx_not_moving.append(idx)\n",
    "\n",
    "        # Find outlier with time issue\n",
    "        if (T[-1] >= ((num_points_in_traj-1) / 10) +0.5 ) | (T[-1] < ((num_points_in_traj-1) / 10) -0.5):\n",
    "            outlier_idx_time.append(idx)\n",
    "\n",
    "\n",
    "\n",
    "    outlier_idx = set(outlier_idx_acc) | set(outlier_idx_time) | set(outlier_idx_pos) | set(outlier_idx_not_moving)\n",
    "    print('Find {0} outliers, from which {1} acc outlier, {2} time outlier, {3} pos outlier, {4} not moving'.format(len(outlier_idx), len(outlier_idx_acc), len(outlier_idx_time), len(outlier_idx_pos),len(outlier_idx_not_moving)))\n",
    "\n",
    "    \n",
    "    PATH = \"data/ego_trajs_\" + str(num_points_in_traj) + \"_json\"\n",
    "    if not os.path.exists(PATH):\n",
    "        os.makedirs(PATH)\n",
    "\n",
    "    with open(PATH + \"/ego_trajs_outlier_indicies.json\", \"w\") as write_file:\n",
    "        json.dump(list(outlier_idx), write_file, cls=utils.NumpyEncoder)\n",
    "\n",
    "    with open(PATH + \"/ego_trajs_outlier_indicies_pos.json\", \"w\") as write_file:\n",
    "        json.dump(list(outlier_idx_pos), write_file, cls=utils.NumpyEncoder)\n",
    "\n",
    "    with open(PATH + \"/ego_trajs_outlier_indicies_acc.json\", \"w\") as write_file:\n",
    "        json.dump(outlier_idx_acc, write_file, cls=utils.NumpyEncoder)\n",
    "\n",
    "    with open(PATH + \"/ego_trajs_outlier_indicies_time.json\", \"w\") as write_file:\n",
    "        json.dump(outlier_idx_time, write_file, cls=utils.NumpyEncoder)\n",
    "        \n",
    "    with open(PATH + \"/ego_trajs_outlier_indicies_not_moving.json\", \"w\") as write_file:\n",
    "        json.dump(outlier_idx_not_moving, write_file, cls=utils.NumpyEncoder)\n",
    "\n",
    "    with open(PATH + \"/ego_trajs_start_point_indicies.json\", \"w\") as write_file:\n",
    "        json.dump(start_point_indicies, write_file, cls=utils.NumpyEncoder)\n",
    "\n",
    "    with open(PATH + \"/ego_trajs_filtered_CA.json\", \"w\") as write_file:\n",
    "        json.dump(posterior_means, write_file, cls=utils.NumpyEncoder)\n",
    "\n",
    "    with open(PATH + \"/ego_trajs_filtered_a_lon.json\", \"w\") as write_file:\n",
    "        json.dump(posterior_a_lon, write_file, cls=utils.NumpyEncoder)\n",
    "        \n",
    "    with open(PATH + \"/ks_parameter.json\", \"w\") as write_file:\n",
    "        json.dump(parameter, write_file, cls=utils.NumpyEncoder)"
   ]
  },
  {
   "cell_type": "code",
   "execution_count": null,
   "id": "b40ce71a-9860-4a4c-a872-17ac6311bb28",
   "metadata": {},
   "outputs": [],
   "source": [
    "idx = 406247\n",
    "fig, ax = plt.subplots()\n",
    "test_t, test_traj, _ = utils.extract_traj_data(file_path=ego_path_list[idx], origin_num_of_points=origin_num_points_in_traj, \n",
    "                                               traj_type='ego_traj', target_num_of_points=num_points_in_traj, start_idx=start_point_indicies[idx])\n",
    "ax.plot(test_traj[:,0], test_traj[:,1], 'o', label = 'Measurement')\n",
    "ax.plot(posterior_means[idx,:, 0], posterior_means[idx,:,3], 'o', fillstyle = 'none', label = 'KS Fitting')\n",
    "ax.legend()"
   ]
  },
  {
   "cell_type": "markdown",
   "id": "fcf6bf73-5b97-418b-b5a7-8cd42463e586",
   "metadata": {},
   "source": [
    "# (expired) Find not moving ego trajectories (expired)"
   ]
  },
  {
   "cell_type": "code",
   "execution_count": 6,
   "id": "b7137d0d-0e39-48d1-94f2-a50c6e251937",
   "metadata": {},
   "outputs": [],
   "source": [
    "path_list = []\n",
    "num_points_in_traj = 51\n",
    "for root, dirs, files in os.walk(os.path.abspath('data/ego_trajs_json/')):\n",
    "    files.sort()\n",
    "    for file in files:\n",
    "        path_list.append(os.path.join(root, file))"
   ]
  },
  {
   "cell_type": "code",
   "execution_count": 8,
   "id": "ffc29e56-0f6c-400a-8268-c9fb99fc0d9e",
   "metadata": {},
   "outputs": [],
   "source": [
    "with open(\"data/ego_trajs_\" + str(num_points_in_traj) + \"_json_new/ego_trajs_start_point_indicies.json\", \"r\") as read_file:\n",
    "    start_indicies = json.load(read_file)"
   ]
  },
  {
   "cell_type": "code",
   "execution_count": 9,
   "id": "67f36dd0-4af9-496c-a31e-498fa552d650",
   "metadata": {},
   "outputs": [],
   "source": [
    "def extract_data(file_path, start_point_idx):\n",
    "    with open(file_path, \"r\") as read_file:\n",
    "         data = json.load(read_file) \n",
    "\n",
    "    traj_xy = np.array(data['ego_traj'])[start_point_idx: start_point_idx+num_points_in_traj, :2] - np.array(data['ego_traj'])[start_point_idx, :2] # Let trajectory start from zero\n",
    "\n",
    "    return traj_xy"
   ]
  },
  {
   "cell_type": "code",
   "execution_count": 10,
   "id": "37342584-11c4-43e5-8f95-57b1978039ef",
   "metadata": {},
   "outputs": [
    {
     "data": {
      "application/vnd.jupyter.widget-view+json": {
       "model_id": "444e1f7908384c0691b29b9361adbc22",
       "version_major": 2,
       "version_minor": 0
      },
      "text/plain": [
       "0it [00:00, ?it/s]"
      ]
     },
     "metadata": {},
     "output_type": "display_data"
    },
    {
     "data": {
      "text/plain": [
       "123724"
      ]
     },
     "execution_count": 10,
     "metadata": {},
     "output_type": "execute_result"
    }
   ],
   "source": [
    "not_moving_list = []\n",
    "\n",
    "for idx, (path,s) in enumerate(tqdm(zip(path_list, start_indicies))):\n",
    "    traj = extract_data(path,s)\n",
    "    \n",
    "    d = np.linalg.norm(traj[-1])\n",
    "    if d <= 0.5:\n",
    "        not_moving_list.append(idx)\n",
    "        \n",
    "len(not_moving_list)"
   ]
  },
  {
   "cell_type": "code",
   "execution_count": 12,
   "id": "f0be44b9-d5a6-49c1-92cf-784d058aad61",
   "metadata": {},
   "outputs": [],
   "source": [
    "with open(\"data/ego_trajs_\" + str(num_points_in_traj) + \"_json_new/ego_trajs_outlier_indicies.json\", \"r\") as read_file:\n",
    "    outlier_idx = json.load(read_file)"
   ]
  },
  {
   "cell_type": "code",
   "execution_count": 14,
   "id": "2f7a8d6a-ccf7-4003-818e-c70336de6f19",
   "metadata": {},
   "outputs": [
    {
     "data": {
      "text/plain": [
       "123783"
      ]
     },
     "execution_count": 14,
     "metadata": {},
     "output_type": "execute_result"
    }
   ],
   "source": [
    "len(set(outlier_idx) | set(not_moving_list))"
   ]
  },
  {
   "cell_type": "code",
   "execution_count": 11,
   "id": "0f07e79b-30c5-4702-b302-7065f73ccb8f",
   "metadata": {},
   "outputs": [],
   "source": [
    "with open(\"data/ego_trajs_not_moving_indicies.json\", \"w\") as write_file:\n",
    "    json.dump(not_moving_list, write_file, cls=utils.NumpyEncoder)"
   ]
  },
  {
   "cell_type": "markdown",
   "id": "76432f0c-9516-4802-8b46-2b8edf53c6d4",
   "metadata": {},
   "source": [
    "# Preprocessing Agent Trajectories (Smoothing, 6 hours)"
   ]
  },
  {
   "cell_type": "code",
   "execution_count": 2,
   "id": "b4d6b72c-8891-4475-a603-c6728b822995",
   "metadata": {},
   "outputs": [
    {
     "data": {
      "application/vnd.jupyter.widget-view+json": {
       "model_id": "3a11e7105c924fae95784dc3c412967f",
       "version_major": 2,
       "version_minor": 0
      },
      "text/plain": [
       "  0%|          | 0/1829161 [00:00<?, ?it/s]"
      ]
     },
     "metadata": {},
     "output_type": "display_data"
    },
    {
     "ename": "KeyboardInterrupt",
     "evalue": "",
     "output_type": "error",
     "traceback": [
      "\u001b[0;31m---------------------------------------------------------------------------\u001b[0m",
      "\u001b[0;31mKeyboardInterrupt\u001b[0m                         Traceback (most recent call last)",
      "\u001b[0;32m/tmp/ipykernel_4719/3917829744.py\u001b[0m in \u001b[0;36m<cell line: 8>\u001b[0;34m()\u001b[0m\n\u001b[1;32m     12\u001b[0m             \u001b[0;32mcontinue\u001b[0m\u001b[0;34m\u001b[0m\u001b[0;34m\u001b[0m\u001b[0m\n\u001b[1;32m     13\u001b[0m \u001b[0;34m\u001b[0m\u001b[0m\n\u001b[0;32m---> 14\u001b[0;31m         \u001b[0;32mif\u001b[0m \u001b[0midx\u001b[0m \u001b[0;32min\u001b[0m \u001b[0mselect_file_idx\u001b[0m \u001b[0;32mand\u001b[0m \u001b[0mobject_type\u001b[0m\u001b[0;34m==\u001b[0m\u001b[0;34m'vehicle'\u001b[0m \u001b[0;34m:\u001b[0m\u001b[0;34m\u001b[0m\u001b[0;34m\u001b[0m\u001b[0m\n\u001b[0m\u001b[1;32m     15\u001b[0m             \u001b[0magt_file_path_list\u001b[0m\u001b[0;34m.\u001b[0m\u001b[0mappend\u001b[0m\u001b[0;34m(\u001b[0m\u001b[0mos\u001b[0m\u001b[0;34m.\u001b[0m\u001b[0mpath\u001b[0m\u001b[0;34m.\u001b[0m\u001b[0mjoin\u001b[0m\u001b[0;34m(\u001b[0m\u001b[0mroot\u001b[0m\u001b[0;34m,\u001b[0m \u001b[0mfile\u001b[0m\u001b[0;34m)\u001b[0m\u001b[0;34m)\u001b[0m\u001b[0;34m\u001b[0m\u001b[0;34m\u001b[0m\u001b[0m\n\u001b[1;32m     16\u001b[0m         \u001b[0;32melse\u001b[0m\u001b[0;34m:\u001b[0m\u001b[0;34m\u001b[0m\u001b[0;34m\u001b[0m\u001b[0m\n",
      "\u001b[0;31mKeyboardInterrupt\u001b[0m: "
     ]
    }
   ],
   "source": [
    "agt_file_path_list = []\n",
    "np.random.seed(7)\n",
    "object_type = 'vehicle'\n",
    "\n",
    "select_file_idx = np.sort(np.random.choice(range(1829161), size=600000, replace=False)) # We randomly choose 60k data from all 1829161 agent trajectories (vehicle) for further processing\n",
    "\n",
    "for root, dirs, files in os.walk(os.path.abspath('data/'+ object_type + '/agt_trajs_json/')):\n",
    "    files.sort()\n",
    "    for idx, file in enumerate(tqdm(files)):\n",
    "        if '.json' not in file or 'checkpoint' in file: # ignore unrelated file\n",
    "            continue\n",
    "        \n",
    "        # When processing vehicle trajs, we only choose 600000 for further processing, else we use all trajs.\n",
    "        if idx in select_file_idx and object_type=='vehicle':\n",
    "            agt_file_path_list.append(os.path.join(root, file))\n",
    "        else:\n",
    "            agt_file_path_list.append(os.path.join(root, file))\n",
    "\n",
    "len(agt_file_path_list)"
   ]
  },
  {
   "cell_type": "code",
   "execution_count": 12,
   "id": "a45b7fb0-b1b2-4d5e-b805-83b6e58c6eb6",
   "metadata": {},
   "outputs": [
    {
     "data": {
      "text/plain": [
       "231508"
      ]
     },
     "execution_count": 12,
     "metadata": {},
     "output_type": "execute_result"
    }
   ],
   "source": [
    "len(agt_file_path_list)"
   ]
  },
  {
   "cell_type": "code",
   "execution_count": 13,
   "id": "95c9b323-a217-41b3-aa4d-178d2a766f65",
   "metadata": {},
   "outputs": [
    {
     "name": "stdout",
     "output_type": "stream",
     "text": [
      "91\n"
     ]
    },
    {
     "data": {
      "application/vnd.jupyter.widget-view+json": {
       "model_id": "6e3a427b84cb4865b62b71b3618cfa1b",
       "version_major": 2,
       "version_minor": 0
      },
      "text/plain": [
       "  0%|          | 0/231508 [00:00<?, ?it/s]"
      ]
     },
     "metadata": {},
     "output_type": "display_data"
    },
    {
     "name": "stderr",
     "output_type": "stream",
     "text": [
      "IOPub message rate exceeded.\n",
      "The notebook server will temporarily stop sending output\n",
      "to the client in order to avoid crashing it.\n",
      "To change this limit, set the config variable\n",
      "`--NotebookApp.iopub_msg_rate_limit`.\n",
      "\n",
      "Current values:\n",
      "NotebookApp.iopub_msg_rate_limit=1000.0 (msgs/sec)\n",
      "NotebookApp.rate_limit_window=3.0 (secs)\n",
      "\n"
     ]
    },
    {
     "name": "stdout",
     "output_type": "stream",
     "text": [
      "Find 114493 outliers, from which 114161 acc outlier, 154 time outlier, 113983 pos outlier, 6227 not moving\n",
      "81\n"
     ]
    },
    {
     "data": {
      "application/vnd.jupyter.widget-view+json": {
       "model_id": "8b9a86292ac74b8296e89afe862e205f",
       "version_major": 2,
       "version_minor": 0
      },
      "text/plain": [
       "  0%|          | 0/231508 [00:00<?, ?it/s]"
      ]
     },
     "metadata": {},
     "output_type": "display_data"
    },
    {
     "name": "stdout",
     "output_type": "stream",
     "text": [
      "Find 102819 outliers, from which 102325 acc outlier, 129 time outlier, 102173 pos outlier, 2255 not moving\n",
      "71\n"
     ]
    },
    {
     "data": {
      "application/vnd.jupyter.widget-view+json": {
       "model_id": "485afbffd5db4b54bab31828e9ed3f49",
       "version_major": 2,
       "version_minor": 0
      },
      "text/plain": [
       "  0%|          | 0/231508 [00:00<?, ?it/s]"
      ]
     },
     "metadata": {},
     "output_type": "display_data"
    },
    {
     "name": "stdout",
     "output_type": "stream",
     "text": [
      "Find 94549 outliers, from which 93773 acc outlier, 89 time outlier, 93629 pos outlier, 2012 not moving\n",
      "61\n"
     ]
    },
    {
     "data": {
      "application/vnd.jupyter.widget-view+json": {
       "model_id": "f663555395464114b7234cdf99030ecf",
       "version_major": 2,
       "version_minor": 0
      },
      "text/plain": [
       "  0%|          | 0/231508 [00:00<?, ?it/s]"
      ]
     },
     "metadata": {},
     "output_type": "display_data"
    },
    {
     "name": "stdout",
     "output_type": "stream",
     "text": [
      "Find 85868 outliers, from which 84607 acc outlier, 54 time outlier, 84471 pos outlier, 2269 not moving\n",
      "51\n"
     ]
    },
    {
     "data": {
      "application/vnd.jupyter.widget-view+json": {
       "model_id": "1dc6c34bf64444759faf2cafaa287982",
       "version_major": 2,
       "version_minor": 0
      },
      "text/plain": [
       "  0%|          | 0/231508 [00:00<?, ?it/s]"
      ]
     },
     "metadata": {},
     "output_type": "display_data"
    },
    {
     "name": "stdout",
     "output_type": "stream",
     "text": [
      "Find 76682 outliers, from which 74663 acc outlier, 39 time outlier, 74534 pos outlier, 3046 not moving\n",
      "41\n"
     ]
    },
    {
     "data": {
      "application/vnd.jupyter.widget-view+json": {
       "model_id": "dfda3043494342a9b9849e7ff2fa3831",
       "version_major": 2,
       "version_minor": 0
      },
      "text/plain": [
       "  0%|          | 0/231508 [00:00<?, ?it/s]"
      ]
     },
     "metadata": {},
     "output_type": "display_data"
    },
    {
     "name": "stdout",
     "output_type": "stream",
     "text": [
      "Find 67713 outliers, from which 64444 acc outlier, 24 time outlier, 64332 pos outlier, 4403 not moving\n",
      "31\n"
     ]
    },
    {
     "data": {
      "application/vnd.jupyter.widget-view+json": {
       "model_id": "8764e85351d34f4aa2801970d2bb1440",
       "version_major": 2,
       "version_minor": 0
      },
      "text/plain": [
       "  0%|          | 0/231508 [00:00<?, ?it/s]"
      ]
     },
     "metadata": {},
     "output_type": "display_data"
    },
    {
     "name": "stdout",
     "output_type": "stream",
     "text": [
      "Find 58935 outliers, from which 53961 acc outlier, 19 time outlier, 53873 pos outlier, 6355 not moving\n",
      "21\n"
     ]
    },
    {
     "data": {
      "application/vnd.jupyter.widget-view+json": {
       "model_id": "9598bf3e7e9c47b19655b50cc884cbf2",
       "version_major": 2,
       "version_minor": 0
      },
      "text/plain": [
       "  0%|          | 0/231508 [00:00<?, ?it/s]"
      ]
     },
     "metadata": {},
     "output_type": "display_data"
    },
    {
     "name": "stdout",
     "output_type": "stream",
     "text": [
      "Find 50485 outliers, from which 41172 acc outlier, 9 time outlier, 41103 pos outlier, 10917 not moving\n",
      "11\n"
     ]
    },
    {
     "data": {
      "application/vnd.jupyter.widget-view+json": {
       "model_id": "f50d61e6102d424f8c67dc610df61546",
       "version_major": 2,
       "version_minor": 0
      },
      "text/plain": [
       "  0%|          | 0/231508 [00:00<?, ?it/s]"
      ]
     },
     "metadata": {},
     "output_type": "display_data"
    },
    {
     "name": "stderr",
     "output_type": "stream",
     "text": [
      "IOPub message rate exceeded.\n",
      "The notebook server will temporarily stop sending output\n",
      "to the client in order to avoid crashing it.\n",
      "To change this limit, set the config variable\n",
      "`--NotebookApp.iopub_msg_rate_limit`.\n",
      "\n",
      "Current values:\n",
      "NotebookApp.iopub_msg_rate_limit=1000.0 (msgs/sec)\n",
      "NotebookApp.rate_limit_window=3.0 (secs)\n",
      "\n"
     ]
    }
   ],
   "source": [
    "origin_num_points_in_traj = 91 # We have 91 sample points in one 9s trajectory\n",
    "num_points_in_trajs = [91,81,71,61,51,41,31,21, 11] # Target Number of points after splitting\n",
    "\n",
    "for num_points_in_traj in num_points_in_trajs:\n",
    "    print(num_points_in_traj)\n",
    "    np.random.seed(7)\n",
    "    posterior_means = np.zeros((len(agt_file_path_list), num_points_in_traj, 6))\n",
    "    posterior_a_lon = np.zeros((len(agt_file_path_list), num_points_in_traj))\n",
    "\n",
    "    outlier_idx_acc = []\n",
    "    outlier_idx_time = []\n",
    "    outlier_idx_pos = []\n",
    "    outlier_idx_not_moving = []\n",
    "    outlier_idx = []\n",
    "    start_point_indicies = []\n",
    "    \n",
    "    out_of_view = 0\n",
    "    \n",
    "    \n",
    "    # Initializing Kalman Smoother Parameters\n",
    "    R = np.diag([0.01, 0.01, 1, 1]) \n",
    "\n",
    "    initial_state_mean = np.zeros(6)\n",
    "    initial_state_covariance = np.diag(np.array([R[0, 0], R[2, 2], 10, R[1, 1], R[3, 3], 10]))\n",
    "\n",
    "    dt = 0.1\n",
    "\n",
    "    observation_matrix = np.array([[1, 0, 0, 0, 0, 0],\n",
    "                                   [0, 0, 0, 1, 0, 0],\n",
    "                                   [0, 1, 0, 0, 0, 0],\n",
    "                                   [0, 0, 0, 0, 1, 0]])\n",
    "    \n",
    "    Q = np.kron(np.eye(2), np.array([[(dt**5)/20, (dt**4)/8, (dt**3)/6],\n",
    "                          [(dt**4)/8,  (dt**3)/3, (dt**2)/2],\n",
    "                          [(dt**3)/6,  (dt**2)/2, dt]]).astype(np.float32)) # Process Cov\n",
    "    \n",
    "        \n",
    "    parameter = {'R': np.diag(R), 'init_cov':np.diag(initial_state_covariance), 'q': 1}\n",
    "    \n",
    "    for idx, path in enumerate(tqdm(agt_file_path_list)):\n",
    "        T, traj, start_point_idx = utils.extract_traj_data(file_path=path, target_num_of_points=num_points_in_traj , traj_type = 'agt_traj')\n",
    "        \n",
    "        # Activate this part for calculating out of view outliers\n",
    "        # d_diff = traj[1:, :2] - traj[:-1, :2]\n",
    "        # d_diff_norm = np.linalg.norm(d_diff, axis=1)\n",
    "        # test = np.where(d_diff_norm >200)[0]\n",
    "        # if test.size>0:\n",
    "        #     out_of_view = out_of_view+1\n",
    "        \n",
    "        start_point_indicies.append(start_point_idx)\n",
    "\n",
    "        dT = T[1:] - T[:-1]\n",
    "\n",
    "        transition_matrices = [np.kron(np.eye(2), np.array([[1, dt, 0.5* (dt**2)], \n",
    "                                                             [0, 1, dt],\n",
    "                                                             [0, 0, 1]])) for dt in dT]\n",
    "\n",
    "        initial_state_mean[1] = traj[0,2]\n",
    "        initial_state_mean[4] = traj[0,3]\n",
    "\n",
    "\n",
    "        kf = KalmanFilter(transition_matrices = transition_matrices, observation_matrices = observation_matrix, transition_covariance = Q,\n",
    "                      observation_covariance = R, initial_state_mean = initial_state_mean, initial_state_covariance = initial_state_covariance)\n",
    "\n",
    "        smoothed_state_means, smoothed_state_covariances  = kf.smooth(traj)\n",
    "\n",
    "        v_xy = smoothed_state_means[:, [1, 4]]\n",
    "        a_xy = smoothed_state_means[:, [2, 5]]\n",
    "\n",
    "        a_lon = np.array([np.dot(a ,v) / np.linalg.norm(v) for a, v in zip(a_xy.reshape(-1,2), v_xy.reshape(-1,2))])\n",
    "\n",
    "        a_lon = a_lon.reshape(-1, num_points_in_traj)\n",
    "\n",
    "        posterior_means[idx] = smoothed_state_means\n",
    "        posterior_a_lon[idx] = a_lon\n",
    "\n",
    "        delta_pos_max = np.amax(np.linalg.norm(traj[:,[0,1]] - smoothed_state_means[:, [0,3]], axis=1))\n",
    "        \n",
    "        moving_d = np.linalg.norm(traj[-1, :2])\n",
    "        \n",
    "        if delta_pos_max >2:\n",
    "            outlier_idx_pos.append(idx)\n",
    "            \n",
    "        if moving_d <= 0.5:\n",
    "            outlier_idx_not_moving.append(idx)\n",
    "\n",
    "        if (T[-1] >= ((num_points_in_traj-1) / 10) +0.5 ) | (T[-1] < ((num_points_in_traj-1) / 10) -0.5):\n",
    "            outlier_idx_time.append(idx)\n",
    "\n",
    "        if object_type == 'vehicle':\n",
    "            outlier_points_acc = np.argwhere((a_lon > 6) |(a_lon < -9.8))\n",
    "        elif object_type == 'pedestrain':\n",
    "            outlier_points_acc = np.argwhere((a_lon > 2) |(a_lon < -3))\n",
    "        elif object_type == 'cyclist':\n",
    "            outlier_points_acc = np.argwhere((a_lon > 2) |(a_lon < -4))\n",
    "            \n",
    "        if outlier_points_acc.shape[0] > 0:\n",
    "            outlier_idx_acc.append(idx)\n",
    "\n",
    "    outlier_idx = set(outlier_idx_acc) | set(outlier_idx_time) | set(outlier_idx_pos) | set(outlier_idx_not_moving)\n",
    "    \n",
    "    # we again choose 300000 trajs with outlier for our experiments\n",
    "    if object_type == 'vehicle':\n",
    "        non_outlier_idx = list(set(range(idx+1)) - outlier_idx)\n",
    "        non_outlier_idx = np.sort(np.random.choice(non_outlier_idx, size=300000, replace=False))\n",
    "    \n",
    "\n",
    "    print('Find {0} outliers, from which {1} acc outlier, {2} time outlier, {3} pos outlier, {4} not moving'.format(len(outlier_idx), len(outlier_idx_acc), len(outlier_idx_time), len(outlier_idx_pos),len(outlier_idx_not_moving)))\n",
    "    \n",
    "    \n",
    "    PATH = \"data/\"+ object_type + \"/agt_trajs_\" + str(num_points_in_traj) + \"_json\"\n",
    "    if not os.path.exists(PATH):\n",
    "        os.makedirs(PATH)\n",
    "\n",
    "    with open(PATH + \"/agt_trajs_outlier_indicies.json\", \"w\") as write_file:\n",
    "        json.dump(list(outlier_idx), write_file, cls=utils.NumpyEncoder)\n",
    "\n",
    "    with open(PATH + \"/agt_trajs_outlier_indicies_pos.json\", \"w\") as write_file:\n",
    "        json.dump(list(outlier_idx_pos), write_file, cls=utils.NumpyEncoder)\n",
    "\n",
    "    with open(PATH + \"/agt_trajs_outlier_indicies_acc.json\", \"w\") as write_file:\n",
    "        json.dump(outlier_idx_acc, write_file, cls=utils.NumpyEncoder)\n",
    "\n",
    "    with open(PATH + \"/agt_trajs_outlier_indicies_time.json\", \"w\") as write_file:\n",
    "        json.dump(outlier_idx_time, write_file, cls=utils.NumpyEncoder)\n",
    "        \n",
    "    with open(PATH + \"/agt_trajs_outlier_indicies_not_moving.json\", \"w\") as write_file:\n",
    "        json.dump(outlier_idx_not_moving, write_file, cls=utils.NumpyEncoder)\n",
    "    \n",
    "    if object_type == 'vehicle': # only store the 300000 selected data \n",
    "        with open(PATH + \"/agt_trajs_select_non_outlier_indicies.json\", \"w\") as write_file:\n",
    "            json.dump(select_file_idx[non_outlier_idx], write_file, cls=utils.NumpyEncoder)\n",
    "\n",
    "        with open(PATH + \"/agt_trajs_start_point_indicies.json\", \"w\") as write_file:\n",
    "            json.dump(np.array(start_point_indicies)[non_outlier_idx], write_file, cls=utils.NumpyEncoder)\n",
    "\n",
    "        with open(PATH + \"/agt_trajs_filtered_CA.json\", \"w\") as write_file:\n",
    "            json.dump(posterior_means[non_outlier_idx], write_file, cls=utils.NumpyEncoder)\n",
    "            \n",
    "        with open(PATH + \"/agt_trajs_filtered_a_lon.json\", \"w\") as write_file:\n",
    "            json.dump(posterior_a_lon[non_outlier_idx], write_file, cls=utils.NumpyEncoder)\n",
    "    else: # store all data \n",
    "        with open(PATH + \"/agt_trajs_start_point_indicies.json\", \"w\") as write_file:\n",
    "            json.dump(start_point_indicies, write_file, cls=utils.NumpyEncoder)\n",
    "\n",
    "        with open(PATH + \"/agt_trajs_filtered_CA.json\", \"w\") as write_file:\n",
    "            json.dump(posterior_means, write_file, cls=utils.NumpyEncoder)\n",
    "\n",
    "        with open(PATH + \"/agt_trajs_filtered_a_lon.json\", \"w\") as write_file:\n",
    "            json.dump(posterior_a_lon, write_file, cls=utils.NumpyEncoder)\n",
    "        \n",
    "    with open(PATH + \"/ks_parameter.json\", \"w\") as write_file:\n",
    "        json.dump(parameter, write_file, cls=utils.NumpyEncoder)"
   ]
  },
  {
   "cell_type": "code",
   "execution_count": 10,
   "id": "de865ec8-4425-4130-be2d-9d94cbba52a6",
   "metadata": {},
   "outputs": [
    {
     "data": {
      "text/plain": [
       "[15,\n",
       " 16,\n",
       " 21,\n",
       " 31,\n",
       " 32,\n",
       " 42,\n",
       " 50,\n",
       " 57,\n",
       " 72,\n",
       " 79,\n",
       " 86,\n",
       " 104,\n",
       " 111,\n",
       " 128,\n",
       " 133,\n",
       " 143,\n",
       " 144,\n",
       " 151,\n",
       " 194,\n",
       " 211,\n",
       " 228,\n",
       " 251,\n",
       " 254,\n",
       " 272,\n",
       " 276,\n",
       " 296,\n",
       " 299,\n",
       " 304,\n",
       " 306,\n",
       " 307,\n",
       " 314,\n",
       " 318,\n",
       " 322,\n",
       " 324,\n",
       " 327,\n",
       " 333,\n",
       " 342,\n",
       " 343,\n",
       " 344,\n",
       " 357,\n",
       " 408,\n",
       " 415,\n",
       " 426,\n",
       " 452,\n",
       " 453,\n",
       " 455,\n",
       " 462,\n",
       " 467,\n",
       " 471,\n",
       " 475,\n",
       " 481,\n",
       " 487,\n",
       " 501,\n",
       " 507,\n",
       " 512,\n",
       " 535,\n",
       " 538,\n",
       " 539,\n",
       " 544,\n",
       " 546,\n",
       " 563,\n",
       " 585,\n",
       " 590,\n",
       " 607,\n",
       " 609,\n",
       " 620,\n",
       " 621,\n",
       " 623,\n",
       " 627,\n",
       " 641,\n",
       " 643,\n",
       " 647,\n",
       " 648,\n",
       " 649,\n",
       " 655,\n",
       " 668,\n",
       " 670,\n",
       " 671,\n",
       " 687,\n",
       " 697,\n",
       " 699,\n",
       " 702,\n",
       " 711,\n",
       " 715,\n",
       " 719,\n",
       " 726,\n",
       " 740,\n",
       " 760,\n",
       " 765,\n",
       " 769,\n",
       " 774,\n",
       " 782,\n",
       " 792,\n",
       " 794,\n",
       " 799,\n",
       " 800,\n",
       " 803,\n",
       " 811,\n",
       " 812,\n",
       " 817]"
      ]
     },
     "execution_count": 10,
     "metadata": {},
     "output_type": "execute_result"
    }
   ],
   "source": [
    "outlier_idx_pos[:100]"
   ]
  },
  {
   "cell_type": "code",
   "execution_count": 13,
   "id": "45075239-7a1a-4240-8c89-6f636ff654d7",
   "metadata": {},
   "outputs": [
    {
     "data": {
      "text/plain": [
       "<matplotlib.legend.Legend at 0x7ff40c577970>"
      ]
     },
     "execution_count": 13,
     "metadata": {},
     "output_type": "execute_result"
    },
    {
     "data": {
      "image/png": "[encoded data removed]",
      "text/plain": [
       "<Figure size 432x288 with 1 Axes>"
      ]
     },
     "metadata": {
      "needs_background": "light"
     },
     "output_type": "display_data"
    }
   ],
   "source": [
    "idx = 817\n",
    "fig, ax = plt.subplots()\n",
    "test_t, test_traj, _ = utils.extract_traj_data(file_path=agt_file_path_list[idx], origin_num_of_points=origin_num_points_in_traj, \n",
    "                                               traj_type='agt_traj', target_num_of_points=num_points_in_traj, start_idx=start_point_indicies[idx])\n",
    "ax.plot(test_traj[:,0], test_traj[:,1], 'o', label = 'Measurement')\n",
    "ax.plot(posterior_means[idx,:, 0], posterior_means[idx,:,3], 'o', fillstyle = 'none', label = 'KS Fitting')\n",
    "ax.legend()"
   ]
  }
 ],
 "metadata": {
  "kernelspec": {
   "display_name": "Environment (conda_tensorflow2_p38)",
   "language": "python",
   "name": "conda_tensorflow2_p38"
  },
  "language_info": {
   "codemirror_mode": {
    "name": "ipython",
    "version": 3
   },
   "file_extension": ".py",
   "mimetype": "text/x-python",
   "name": "python",
   "nbconvert_exporter": "python",
   "pygments_lexer": "ipython3",
   "version": "3.8.12"
  }
 },
 "nbformat": 4,
 "nbformat_minor": 5
}
