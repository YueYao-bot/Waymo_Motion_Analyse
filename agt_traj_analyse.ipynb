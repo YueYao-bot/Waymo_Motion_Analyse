{
 "cells": [
  {
   "cell_type": "code",
   "execution_count": 1,
   "id": "82bfcc9a-43f3-4f5d-92d7-40ef4928b48f",
   "metadata": {},
   "outputs": [],
   "source": [
    "import matplotlib.pyplot as plt\n",
    "import numpy as np\n",
    "\n",
    "import tensorflow as tf\n",
    "import tensorflow_probability as tfp\n",
    "from tensorflow_probability import distributions as tfd\n",
    "\n",
    "import warnings\n",
    "import json\n",
    "from tqdm import tqdm\n",
    "\n",
    "import os\n",
    "import gc\n",
    "\n",
    "from copy import deepcopy\n",
    "\n",
    "%load_ext tensorboard\n",
    "\n",
    "warnings.filterwarnings('ignore')\n",
    "\n",
    "tfd = tfp.distributions\n",
    "tfb = tfp.bijectors"
   ]
  },
  {
   "cell_type": "code",
   "execution_count": 2,
   "id": "1ecae62c-55d8-4dc8-9a3c-bac55c71a7c1",
   "metadata": {},
   "outputs": [
    {
     "data": {
      "text/plain": [
       "[PhysicalDevice(name='/physical_device:GPU:0', device_type='GPU')]"
      ]
     },
     "execution_count": 2,
     "metadata": {},
     "output_type": "execute_result"
    }
   ],
   "source": [
    "tf.config.experimental.list_physical_devices('GPU')"
   ]
  },
  {
   "cell_type": "code",
   "execution_count": 3,
   "id": "c0f6aab0-a05b-4c4f-a8ab-ed3f1c47b44d",
   "metadata": {},
   "outputs": [
    {
     "data": {
      "text/plain": [
       "('0.16.0', '2.8.0')"
      ]
     },
     "execution_count": 3,
     "metadata": {},
     "output_type": "execute_result"
    }
   ],
   "source": [
    "tfp.__version__, tf.__version__"
   ]
  },
  {
   "cell_type": "markdown",
   "id": "55239ba0-0fd3-4975-a0c0-3109bb961dc6",
   "metadata": {},
   "source": [
    "# Utils Functions"
   ]
  },
  {
   "cell_type": "code",
   "execution_count": 4,
   "id": "c0eef6ba-0721-49af-842f-432c2845cbf9",
   "metadata": {},
   "outputs": [],
   "source": [
    "class NumpyEncoder(json.JSONEncoder):\n",
    "    def default(self, obj):\n",
    "        if isinstance(obj, np.ndarray):\n",
    "            return obj.tolist()\n",
    "        if isinstance(obj, np.float32):\n",
    "            return float(obj)\n",
    "        if isinstance(obj, np.int16):\n",
    "            return int(obj)\n",
    "        if isinstance(obj, np.int64):\n",
    "            return int(obj)\n",
    "        if isinstance(obj, tf.Tensor):\n",
    "            return float(obj)\n",
    "        return json.JSONEncoder.default(self, obj)"
   ]
  },
  {
   "cell_type": "code",
   "execution_count": 5,
   "id": "37b493cb-db2d-4561-aec9-46df1d0e044d",
   "metadata": {},
   "outputs": [],
   "source": [
    "def calculate_result(degree, bic_scores, aic_scores, A_list, B_list, losses, best_epochs, lr, optimizer, epochs, batch_size):\n",
    "    # BIC Results\n",
    "    best_bic_deg_idx = np.where(bic_scores == np.amin(bic_scores))[0][0]\n",
    "    best_bic_deg = degrees[best_bic_deg_idx]\n",
    "    bic_best_A = A_list[best_bic_deg_idx]\n",
    "    bic_best_B = B_list[best_bic_deg_idx]\n",
    "    best_bic = bic_scores[best_bic_deg_idx]\n",
    "    \n",
    "    # AIC Results\n",
    "    best_aic_deg_idx = np.where(aic_scores == np.amin(aic_scores))[0][0]\n",
    "    best_aic_deg = degrees[best_aic_deg_idx]\n",
    "    aic_best_A = A_list[best_aic_deg_idx]\n",
    "    aic_best_B = B_list[best_aic_deg_idx]\n",
    "    best_aic = aic_scores[best_aic_deg_idx]\n",
    "    \n",
    "    last_losses = [loss[-1] for loss in losses]\n",
    "    \n",
    "    result = {'degree': degree,\n",
    "          'losses': last_losses,\n",
    "          'A_list': A_list,\n",
    "          'B_list': B_list,\n",
    "              \n",
    "          'bic_scores': bic_scores,\n",
    "          'best_bic': best_bic,\n",
    "          'best_bic_A': bic_best_A,\n",
    "          'best_bic_B': bic_best_B,\n",
    "          'best_bic_deg': best_bic_deg,\n",
    "          'best_bic_deg_idx': best_bic_deg_idx,\n",
    "            \n",
    "          'aic_scores': aic_scores,\n",
    "          'best_aic': best_aic,\n",
    "          'best_aic_A': aic_best_A,\n",
    "          'best_aic_B': aic_best_B,\n",
    "          'best_aic_deg': best_aic_deg,\n",
    "          'best_aic_deg_idx': best_aic_deg_idx,\n",
    "              \n",
    "          'lr': lr,\n",
    "          'optimizer': optimizer,\n",
    "          'epochs': epochs,\n",
    "          'best_epochs': best_epochs,\n",
    "          'batch_size': batch_size\n",
    "        }\n",
    "    \n",
    "    return result"
   ]
  },
  {
   "cell_type": "code",
   "execution_count": 6,
   "id": "12352b59-5c93-4554-a467-95e179e34246",
   "metadata": {},
   "outputs": [],
   "source": [
    "def save_result(folder_dir, file_name, result):  \n",
    "    with open(folder_dir + '/' + file_name + '.json', \"w\") as write_file:\n",
    "        json.dump(result, write_file, cls=NumpyEncoder)"
   ]
  },
  {
   "cell_type": "code",
   "execution_count": 7,
   "id": "ee701645-55be-4bcc-9dc2-94e46377a609",
   "metadata": {},
   "outputs": [],
   "source": [
    "def nll(dist, samples):\n",
    "    \"\"\"Calculates the negative log-likelihood for a given distribution\n",
    "    and a data set.\"\"\"\n",
    "    ll = dist.log_prob(samples)\n",
    "    mask_ll = tf.boolean_mask(ll, tf.math.is_finite(ll))\n",
    "    ll = tf.where(tf.math.is_finite(ll), ll, [-1000])\n",
    "    if mask_ll.shape[0] / ll.shape[0] < 0.7:\n",
    "        print('Too much nan in one batch', mask_ll.shape[0], ll.shape[0] )\n",
    "    return -tf.reduce_mean(ll)"
   ]
  },
  {
   "cell_type": "code",
   "execution_count": 8,
   "id": "b8400541-c5c6-43a1-a8a7-bbe6cbc2fe09",
   "metadata": {},
   "outputs": [],
   "source": [
    "#@tf.function\n",
    "def get_loss_and_grads(dist, samples):\n",
    "    with tf.GradientTape() as tape:\n",
    "        tape.watch(dist.trainable_variables)\n",
    "        loss = nll(dist, samples)\n",
    "    \n",
    "    grads = tape.gradient(loss, dist.trainable_variables)\n",
    "    return loss, grads"
   ]
  },
  {
   "cell_type": "code",
   "execution_count": 67,
   "id": "65094ded-6d93-4d5b-b9c8-0f59cb3b03c2",
   "metadata": {},
   "outputs": [],
   "source": [
    "def fit_distribution(dist, samples, opti, epoch):\n",
    "    loss, grads = get_loss_and_grads(dist, samples)\n",
    "    \n",
    "    #print(grads[2])\n",
    "    if tf.math.is_finite(loss):\n",
    "        opti.apply_gradients(zip(grads, dist.trainable_variables))\n",
    "\n",
    "    return loss"
   ]
  },
  {
   "cell_type": "code",
   "execution_count": 12,
   "id": "af793ceb-24d7-4b88-a0fe-80867186be80",
   "metadata": {},
   "outputs": [],
   "source": [
    "#Expands a vector to a polynomial design matrix: from a constant to the deg-power\n",
    "def polyBasisScale(x_last, deg):\n",
    "    #Expands a vector to a polynomial design matrix: from a constant to the deg-power\n",
    "    return np.diag(np.squeeze((np.column_stack([x_last**deg for deg in range(0, deg+1)]))))"
   ]
  },
  {
   "cell_type": "code",
   "execution_count": 13,
   "id": "9f71c293-eb4c-4545-8c94-b4b056a269ad",
   "metadata": {},
   "outputs": [],
   "source": [
    "def polynomial_basis_function(x, power):\n",
    "    return x ** power"
   ]
  },
  {
   "cell_type": "code",
   "execution_count": 14,
   "id": "f5906a16-ee63-44d0-8049-b3a7bece7632",
   "metadata": {},
   "outputs": [],
   "source": [
    "def expand(x, bf, bf_args=None):\n",
    "    if bf_args is None:\n",
    "        return np.concatenate([np.ones(x.shape), bf(x)], axis=1)\n",
    "    else:\n",
    "        return np.array([np.ones(x.shape)] + [bf(x, bf_arg) for bf_arg in bf_args]).T"
   ]
  },
  {
   "cell_type": "code",
   "execution_count": 15,
   "id": "a8160fdd-639c-41f4-bbae-bcd818af64a4",
   "metadata": {},
   "outputs": [],
   "source": [
    "def plot_losses(losses, degrees, y_lim = (-50,50)):\n",
    "    fig, ax = plt.subplots()\n",
    "    for i,loss in enumerate(losses):\n",
    "        ax.plot(range(len(loss)), loss, label = str(degrees[i]))\n",
    "    \n",
    "    ax.set_ylim(y_lim)\n",
    "    ax.legend()\n",
    "\n",
    "    plt.show()\n",
    "    return fig, ax"
   ]
  },
  {
   "cell_type": "code",
   "execution_count": 16,
   "id": "1884e91f-fdc6-4e9c-9b10-88f665effb9f",
   "metadata": {},
   "outputs": [],
   "source": [
    "def generate_file_list_dataset(path_list, idx_trajs_select):\n",
    "    path_list_select = []\n",
    "\n",
    "    for root, dirs, files in os.walk(os.path.abspath(path_list)):\n",
    "        files.sort()\n",
    "    \n",
    "    files = np.array(files)\n",
    "    path_list_select_array = files[idx_trajs_select]\n",
    "    \n",
    "    for idx, file in enumerate(tqdm(path_list_select_array)):\n",
    "        path_list_select.append(os.path.join(root, path_list_select_array[idx]))\n",
    "\n",
    "    file_list_dataset = tf.data.Dataset.from_tensor_slices(path_list_select)\n",
    "    \n",
    "    return file_list_dataset"
   ]
  },
  {
   "cell_type": "code",
   "execution_count": 17,
   "id": "6e4e1764-1d04-4cee-93f5-c2c1d3d9aaaf",
   "metadata": {},
   "outputs": [],
   "source": [
    "def generate_start_indicies_dataset(start_indicies_file):\n",
    "    with open(start_indicies_file, \"r\") as read_file:\n",
    "        start_indicies_all = np.array((json.load(read_file)))\n",
    "\n",
    "    start_indicies_dataset = tf.data.Dataset.from_tensor_slices(start_indicies_all)\n",
    "    \n",
    "    return start_indicies_dataset"
   ]
  },
  {
   "cell_type": "markdown",
   "id": "a56360ee-783c-448b-b3e7-ccbed6a45a3c",
   "metadata": {},
   "source": [
    "# Load Data"
   ]
  },
  {
   "cell_type": "code",
   "execution_count": 18,
   "id": "e77da203-f8b6-4d76-b15d-0455313c7c38",
   "metadata": {},
   "outputs": [],
   "source": [
    "class DataProcessor(object):\n",
    "    def __init__(self, batch_size, dataset, num_points_in_one_traj):\n",
    "        self.batch_size = batch_size\n",
    "        self.dataset = dataset  \n",
    "        self.num_points_in_one_traj = num_points_in_one_traj\n",
    "        self.loaded_dataset = None\n",
    "    \n",
    "    def _extract_ego_trajs(self, file_path, start_idx):\n",
    "        file_str = str(file_path.numpy())[2:-1]\n",
    "        ego_trajs_all = []\n",
    "        times_all = []\n",
    "        with open(file_str, \"r\") as read_file:\n",
    "            traj_data = json.load(read_file)\n",
    "            \n",
    "        ego_traj_temp = np.array(traj_data['ego_traj'])[start_idx : start_idx+self.num_points_in_one_traj]\n",
    "        agt_traj_temp = np.array(traj_data['agt_traj'])[start_idx : start_idx+self.num_points_in_one_traj]\n",
    "        \n",
    "        d = agt_traj_temp[:, [0,1]] - ego_traj_temp[:, [0,1]] \n",
    "        \n",
    "        d_norm = np.linalg.norm(d, axis=1)\n",
    "        theta = np.arctan2(d[:,1], d[:,0]) - ego_traj_temp[:, 3]\n",
    "\n",
    "        c_ego_to_map, s_ego_to_map = np.cos(ego_traj_temp[:, 3]), np.sin(ego_traj_temp[:, 3])\n",
    "        R_ego_to_map = np.transpose(np.array(((c_ego_to_map, -s_ego_to_map), (s_ego_to_map, c_ego_to_map))), (2, 0, 1))\n",
    "        \n",
    "        agt_traj_temp = agt_traj_temp[:, :2] - agt_traj_temp[0,:2] # let agt trajectories start from zero\n",
    "        agt_traj = np.concatenate((agt_traj_temp[:, 0], agt_traj_temp[:, 1]), axis = 0)\n",
    "        #ego_traj = np.concatenate((ego_traj_temp[:, 0], ego_traj_temp[:, 1]), axis = 0)\n",
    "       \n",
    "        \n",
    "        times = np.array(traj_data['timestamp'])[start_idx: start_idx+self.num_points_in_one_traj]\n",
    "        times = times - times[0]\n",
    "        \n",
    "        times = tf.convert_to_tensor(times, dtype=tf.float32)\n",
    "        agt_traj = tf.convert_to_tensor(agt_traj, dtype=tf.float32)\n",
    "        d_norm = tf.convert_to_tensor(d_norm, dtype=tf.float32)\n",
    "        theta = tf.convert_to_tensor(theta, dtype=tf.float32)\n",
    "        R_ego_to_map = tf.convert_to_tensor(R_ego_to_map, dtype=tf.float32)\n",
    "        \n",
    "        return times, agt_traj, d_norm, theta, R_ego_to_map\n",
    "    \n",
    "    \n",
    "    def _load_data(self, file_path, start_idx):\n",
    "        return tf.py_function(self._extract_ego_trajs, [file_path, start_idx], [tf.float32, tf.float32, tf.float32, tf.float32, tf.float32])\n",
    "    \n",
    "    def load_process(self, shuffle = False):\n",
    "        self.loaded_dataset = self.dataset.map(map_func = self._load_data, num_parallel_calls=tf.data.experimental.AUTOTUNE)\n",
    "\n",
    "        self.loaded_dataset = self.loaded_dataset.cache()\n",
    "\n",
    "        # Shuffle data and create batches\n",
    "        if shuffle:\n",
    "            self.loaded_dataset = self.loaded_dataset.shuffle(buffer_size=self.loaded_dataset.__len__())\n",
    "        \n",
    "        # Set batch size for dataset\n",
    "        self.loaded_dataset = self.loaded_dataset.batch(self.batch_size)\n",
    "\n",
    "        # Make dataset fetch batches in the background during the training of the model.\n",
    "        self.loaded_dataset = self.loaded_dataset.prefetch(buffer_size=tf.data.experimental.AUTOTUNE)\n",
    "        \n",
    "    def get_batch(self):\n",
    "        return next(iter(self.loaded_dataset))"
   ]
  },
  {
   "cell_type": "code",
   "execution_count": 136,
   "id": "b64bc30a-2f10-4940-8e12-ea523e23aec3",
   "metadata": {},
   "outputs": [],
   "source": [
    "BATCH_SIZE = 1024\n",
    "EPOCHS = 50\n",
    "lr = 5e-3\n",
    "\n",
    "original_num_points_in_one_traj = 91\n",
    "num_points_in_one_traj = 71"
   ]
  },
  {
   "cell_type": "code",
   "execution_count": 137,
   "id": "8a25dd9b-d3c9-4289-9e43-5d86ceab412e",
   "metadata": {},
   "outputs": [
    {
     "name": "stderr",
     "output_type": "stream",
     "text": [
      "100%|██████████| 300000/300000 [00:00<00:00, 554045.31it/s]\n"
     ]
    },
    {
     "name": "stdout",
     "output_type": "stream",
     "text": [
      "tf.Tensor(293, shape=(), dtype=int64)\n"
     ]
    }
   ],
   "source": [
    "with open(\"data/agt_trajs_\" + str(num_points_in_one_traj) + \"_json/agt_trajs_select_non_outlier_indicies.json\", \"r\") as read_file:\n",
    "    idx_trajs_select = json.load(read_file)\n",
    "    \n",
    "#list_dataset = tf.data.Dataset.list_files(str('data/ego_trajs_json/*'), shuffle=False)\n",
    "list_dataset = generate_file_list_dataset('data/agt_trajs_json/', idx_trajs_select)\n",
    "start_idx_dataset = generate_start_indicies_dataset(\"data/agt_trajs_\" + str(num_points_in_one_traj) + \"_json/agt_trajs_start_point_indicies.json\")\n",
    "combined_dataset = tf.data.Dataset.zip((list_dataset, start_idx_dataset))\n",
    "\n",
    "dataProcessor = DataProcessor(BATCH_SIZE, combined_dataset, num_points_in_one_traj)\n",
    "dataProcessor.load_process(shuffle = True)\n",
    "\n",
    "print(dataProcessor.loaded_dataset.__len__())"
   ]
  },
  {
   "cell_type": "code",
   "execution_count": 138,
   "id": "608593fe-309a-47dd-a0fc-8993a5e0b133",
   "metadata": {},
   "outputs": [
    {
     "name": "stdout",
     "output_type": "stream",
     "text": [
      "(992, 71) (992, 142) (992, 71) (992, 71) (992, 71, 2, 2)\n"
     ]
    },
    {
     "data": {
      "image/png": "[encoded data removed]",
      "text/plain": [
       "<Figure size 432x288 with 1 Axes>"
      ]
     },
     "metadata": {
      "needs_background": "light"
     },
     "output_type": "display_data"
    },
    {
     "data": {
      "image/png": "[encoded data removed]",
      "text/plain": [
       "<Figure size 432x288 with 1 Axes>"
      ]
     },
     "metadata": {
      "needs_background": "light"
     },
     "output_type": "display_data"
    }
   ],
   "source": [
    "fig1, ax1 = plt.subplots()\n",
    "fig2, ax2 = plt.subplots()\n",
    "d_all = np.zeros((300000, num_points_in_one_traj))\n",
    "theta_all = np.zeros((300000, num_points_in_one_traj))\n",
    "start_idx = 0\n",
    "for times, agt_traj, d_norm, theta, R_ego_to_map in dataProcessor.loaded_dataset:\n",
    "    batch_size = times.shape[0]\n",
    "    d_all[start_idx:start_idx+batch_size] = d_norm\n",
    "    theta_all[start_idx:start_idx+batch_size] = theta\n",
    "    start_idx = start_idx+batch_size\n",
    "    \n",
    "ax1.hist(d_all.reshape(-1), bins = 100)\n",
    "ax1.set_title('Distance Histogram')\n",
    "ax2.hist(theta_all.reshape(-1), bins = 100)\n",
    "ax2.set_title('Theta Histogram')\n",
    "print(times.shape, agt_traj.shape, d_norm.shape, theta.shape, R_ego_to_map.shape)"
   ]
  },
  {
   "cell_type": "markdown",
   "id": "14683580-50ef-4f95-b9f1-dd2c91e96b1b",
   "metadata": {},
   "source": [
    "# Training"
   ]
  },
  {
   "cell_type": "code",
   "execution_count": 139,
   "id": "962cf4ab-30db-4c9c-a22e-ec8f86916cb1",
   "metadata": {},
   "outputs": [],
   "source": [
    "def build_mvn(alpha, beta_d, beta_theta, phi_t, phi_d, d_norm, theta, R, num_points):\n",
    "    def mvn_agt(alpha, beta_d, beta_theta, phi_t, phi_d, d_norm, theta, R):      \n",
    "        var_d = tf.squeeze(phi_d @ tf.math.softplus(beta_d))\n",
    "        var_theta =  tf.math.softplus(beta_theta)\n",
    "        \n",
    "        var_lon_lon = var_d * tf.math.pow(tf.math.cos(theta), 2) + var_theta * tf.math.pow(d_norm, 2) * tf.math.pow(tf.math.sin(theta), 2)\n",
    "        var_lat_lat = var_d * tf.math.pow(tf.math.sin(theta), 2) + var_theta * tf.math.pow(d_norm, 2) * tf.math.pow(tf.math.cos(theta), 2)\n",
    "        var_lon_lat = var_d * tf.math.sin(theta) * tf.math.cos(theta) - var_theta *  tf.math.pow(d_norm, 2) * tf.math.sin(theta) * tf.math.cos(theta)\n",
    "                \n",
    "        by_eye = tf.convert_to_tensor([[0,1],[1,0]], dtype=tf.float64)\n",
    "        b_lon_lat_by_diag = tf.experimental.numpy.kron(by_eye, tf.linalg.diag(var_lon_lat))\n",
    "\n",
    "        b_lon_lat_diag = tf.linalg.diag(tf.concat([var_lon_lon, var_lat_lat], axis = 1))\n",
    "        b_lon_lat = b_lon_lat_diag + b_lon_lat_by_diag\n",
    "\n",
    "        cov = R @ b_lon_lat @ tf.transpose(R, perm=[0, 2, 1]) + (phi_t @ alpha )  @ (tf.transpose(phi_t @ alpha, perm=[0, 2, 1]))# + tf.eye(2*num_points, dtype=tf.float64) * 1e-4\n",
    "        \n",
    "        return tfd.MultivariateNormalTriL(loc=tf.zeros((2* num_points), dtype = tf.float64), scale_tril=tf.linalg.cholesky(cov))\n",
    "\n",
    "    \n",
    "    return tfp.experimental.util.DeferredModule(build_fn=mvn_agt, alpha=alpha, beta_d=beta_d, beta_theta=beta_theta, \n",
    "                                                phi_t = phi_t, phi_d=phi_d, d_norm=d_norm, theta = theta, R=R)"
   ]
  },
  {
   "cell_type": "code",
   "execution_count": 140,
   "id": "04802dc7-1a69-4c28-8e28-b4a2fa4eb1f5",
   "metadata": {},
   "outputs": [],
   "source": [
    "def compute_AIC_BIC(nll, deg, num_points):\n",
    "    # Compute bayesian information criterion\n",
    "    degree_of_freedom = 4 + (2*deg)*(2*(deg)+1) / 2\n",
    "    bic_score = nll + 0.5 * np.log(num_points) * degree_of_freedom\n",
    "    \n",
    "    # Compute Akaike information criterion\n",
    "    aic_score = nll + degree_of_freedom\n",
    "    \n",
    "    return aic_score, bic_score"
   ]
  },
  {
   "cell_type": "code",
   "execution_count": 141,
   "id": "a4fe0d9d-119c-4439-a238-5ffd136804bd",
   "metadata": {},
   "outputs": [],
   "source": [
    "def train(alpha, beta_d, beta_theta, opti, data_loader, epochs = 100, model_losses = [], tf_summary_writer = None, verbose = False, early_stop = True):\n",
    "    best_alpha = None\n",
    "    best_beta_d, best_beta_theta = None, None\n",
    "    best_epoch_loss = np.inf\n",
    "    best_epoch = 0\n",
    "    t_scale_factor = (num_points_in_one_traj-1) / 10 # The time duration of one trajectory\n",
    "       \n",
    "    for epoch in tqdm(range(epochs)):\n",
    "        batch_losses = []\n",
    "        for t_samples, agt_traj_samples, d_norm_samples, theta_samples, R_samples in data_loader:\n",
    "            phi_t_batch = expand(((t_samples)/t_scale_factor), bf=polynomial_basis_function, bf_args=range(1, deg+1)).transpose((1, 0, 2))\n",
    "            phi_t_kron = np.kron(np.eye(2), phi_t_batch[:, :, 1:])\n",
    "            \n",
    "            phi_d = expand(d_norm_samples, bf=polynomial_basis_function, bf_args=range(1, 2+1)).transpose((1, 0, 2))\n",
    "            \n",
    "            R_samples = np.transpose(R_samples, (0, 2, 3, 1))\n",
    "            \n",
    "            R = np.block([[tf.linalg.diag(R_samples[:, 0, 0]), tf.linalg.diag(R_samples[:, 0, 1])],\n",
    "                          [tf.linalg.diag(R_samples[:, 1, 0]), tf.linalg.diag(R_samples[:, 1, 1])]])\n",
    "            \n",
    "            phi_t_kron = tf.cast(phi_t_kron, dtype = tf.float64)\n",
    "            phi_d = tf.cast(phi_d, dtype = tf.float64)\n",
    "            R = tf.cast(R, dtype = tf.float64)\n",
    "            d_norm_samples = tf.cast(d_norm_samples, dtype = tf.float64)\n",
    "            theta_samples = tf.cast(theta_samples, dtype = tf.float64)\n",
    "            agt_traj_samples = tf.cast(agt_traj_samples, dtype = tf.float64)\n",
    "            \n",
    "            mvn_test = build_mvn(alpha=alpha, beta_d=beta_d, beta_theta=beta_theta, phi_t=phi_t_kron, \n",
    "                                 phi_d=phi_d, d_norm = d_norm_samples, theta=theta_samples, R=R, num_points=num_points_in_one_traj)\n",
    "\n",
    "            batch_loss = fit_distribution(mvn_test, agt_traj_samples, optimizer, epoch)   \n",
    "            batch_losses.append(batch_loss)\n",
    "            \n",
    "            tf.keras.backend.clear_session() # clear the initiated model in this loop\n",
    "        gc.collect()\n",
    "            \n",
    "        assert not tf.math.is_nan(np.mean(batch_losses))\n",
    "        \n",
    "        epoch_loss = np.mean(batch_losses)\n",
    "        \n",
    "        if epoch_loss < best_epoch_loss:\n",
    "            best_epoch_loss = epoch_loss\n",
    "            best_epoch = epoch\n",
    "            best_alpha, best_beta_d, best_beta_theta = deepcopy(alpha), deepcopy(beta_d), deepcopy(beta_theta)\n",
    "        \n",
    "        model_losses.append(epoch_loss)\n",
    "        \n",
    "        if tf_summary_writer:\n",
    "            with tf_summary_writer.as_default():\n",
    "                tf.summary.scalar('loss', np.mean(batch_losses), step=epoch)\n",
    "        \n",
    "        # Early stop if epoch loss doesn't decrease for more then 20 epochs \n",
    "        if early_stop and epoch - best_epoch >=1:\n",
    "            print('Early Stop at ' + str(epoch) + '(' + str(best_epoch) + ')' + ' epoch')\n",
    "            break\n",
    "        \n",
    "        if(epoch %5 == 0 and verbose):\n",
    "            #A_scale_mat = polyBasisScale(t_scale_factor, deg)\n",
    "            #A_scale_mat = A_scale_mat[1:, 1:]\n",
    "            #A_est = np.linalg.inv(np.kron(np.eye(2), A_scale_mat)) @ A.numpy()\n",
    "            #A_est = A_est @ A_est.T\n",
    "            print('Epoch ', epoch, ', Loss: ', model_losses[-1])\n",
    "            #print(tf.math.softplus(beta_lon), tf.math.softplus(beta_lat))\n",
    "            #print(np.diag(A_est))\n",
    "            #print('Rank: ', np.linalg.matrix_rank(mvn_test.covariance()))\n",
    "        \n",
    "    return best_epoch_loss, best_epoch, best_alpha, best_beta_d, best_beta_theta"
   ]
  },
  {
   "cell_type": "code",
   "execution_count": null,
   "id": "ec295bb5-cd46-4032-9e15-55fdbc6b53d5",
   "metadata": {
    "tags": []
   },
   "outputs": [
    {
     "name": "stdout",
     "output_type": "stream",
     "text": [
      "Trainig deg  1\n"
     ]
    },
    {
     "name": "stderr",
     "output_type": "stream",
     "text": [
      "  2%|▏         | 1/50 [03:55<3:12:07, 235.25s/it]"
     ]
    },
    {
     "name": "stdout",
     "output_type": "stream",
     "text": [
      "Epoch  0 , Loss:  766.9465682548547\n"
     ]
    },
    {
     "name": "stderr",
     "output_type": "stream",
     "text": [
      "  6%|▌         | 3/50 [11:44<3:03:54, 234.78s/it]"
     ]
    }
   ],
   "source": [
    "losses = []\n",
    "best_losses = []\n",
    "best_epoch_losses = []\n",
    "best_epochs = []\n",
    "bic_scores = []\n",
    "aic_scores = []\n",
    "A_list, B_list = [], []\n",
    "lr_schedules_ser = []\n",
    "optimizers_ser = []\n",
    "t_scale_factor = (num_points_in_one_traj-1) / 10 # The time duration of one trajectory\n",
    "log_root_dir = 'logs/gradient_tape/agt_xy_polar' + str(num_points_in_one_traj) + ''\n",
    "nan_batches = []\n",
    "degrees = np.linspace(1, 8, 8, dtype=np.int16) # analyse polynomial from degree 1 to 8\n",
    "#degrees = [8]\n",
    "for i_d, deg in enumerate(degrees):\n",
    "    print('Trainig deg ',deg)\n",
    "    model_losses = []\n",
    "    boundaries = [dataProcessor.loaded_dataset.__len__().numpy()*30]\n",
    "    \n",
    "    values = [0.005, 0.001]\n",
    "    \n",
    "    lr_schedule = tf.keras.optimizers.schedules.PiecewiseConstantDecay(boundaries, values)\n",
    "    optimizer = tf.keras.optimizers.Adam(learning_rate=lr_schedule)   \n",
    "    \n",
    "    lr_schedules_ser.append(tf.keras.optimizers.schedules.serialize(lr_schedule))\n",
    "    optimizers_ser.append(tf.keras.optimizers.serialize(optimizer))\n",
    "\n",
    "    A = tf.Variable(np.random.randn(2*(deg), 2*(deg))*1e-1, dtype=tf.float64, name='alpha') # Model uncertainty\n",
    "    B_d = tf.Variable(np.random.randn(3, 1), dtype=tf.float64, name='beta_d') \n",
    "    B_theta = tf.Variable(np.random.randn(1), dtype=tf.float64, name='beta_theta')\n",
    "    \n",
    "    train_log_dir = log_root_dir + '/deg_' + str(deg)\n",
    "    train_summary_writer = tf.summary.create_file_writer(train_log_dir)  \n",
    "\n",
    "    best_epoch_loss, best_epoch, best_alpha, best_beta_d, best_beta_theta = train(alpha=A, beta_d=B_d, beta_theta=B_theta, opti=optimizer, \n",
    "                                                     epochs = EPOCHS, data_loader=dataProcessor.loaded_dataset, model_losses = model_losses, tf_summary_writer = train_summary_writer, verbose = True, early_stop=False)\n",
    "            \n",
    "    # Add loss\n",
    "    losses.append(model_losses)\n",
    "    best_epoch_losses.append([best_epoch_loss])\n",
    "    \n",
    "    # store the best epoch\n",
    "    best_epochs.append(best_epoch)\n",
    "    \n",
    "    # Compute AIC and BIC\n",
    "    aic_score, bic_score = compute_AIC_BIC(nll = best_epoch_loss, deg = deg, num_points = num_points_in_one_traj)\n",
    "\n",
    "    bic_scores.append(bic_score)\n",
    "    aic_scores.append(aic_score)\n",
    "    \n",
    "    # Compute the model uncertainty, A_unscaled = np.linalg.inv(scale_mat) @ A_scaled\n",
    "    A_scale_mat = polyBasisScale(t_scale_factor, deg)\n",
    "    A_scale_mat = A_scale_mat[1:, 1:]\n",
    "    A_est = np.linalg.inv(np.kron(np.eye(2), A_scale_mat)) @ A.numpy()\n",
    "    A_est = A_est @ A_est.T\n",
    "    A_list.append(A_est)\n",
    "    \n",
    "    # Compute the observation uncertainty, B_cov = tf.eye(num_points_in_one_traj) * tf.math.softplus(B)\n",
    "    B_est = {'B_d': (tf.math.softplus(B_d)).numpy(), 'B_theta': (tf.math.softplus(B_theta)).numpy()}\n",
    "    B_list.append(B_est)\n",
    "    print(deg, model_losses[-1], bic_score, aic_score)"
   ]
  },
  {
   "cell_type": "code",
   "execution_count": null,
   "id": "18b71494-1ddb-4b49-a765-415e7be17d68",
   "metadata": {},
   "outputs": [],
   "source": [
    "result = calculate_result(degrees, bic_scores, aic_scores, A_list, B_list, best_epoch_losses, best_epochs, lr_schedules_ser, optimizers_ser, EPOCHS, BATCH_SIZE)"
   ]
  },
  {
   "cell_type": "code",
   "execution_count": null,
   "id": "6f4a652e-590f-4ff5-995d-9cd16b11d4da",
   "metadata": {},
   "outputs": [],
   "source": [
    "fig,ax = plot_losses(losses, degrees = degrees, y_lim=[-300, 200])\n",
    "fig.savefig('imgs/agt_polar_' + str(num_points_in_one_traj) + '.svg')"
   ]
  },
  {
   "cell_type": "code",
   "execution_count": 100,
   "id": "f6b840b2-a8d2-4bcd-ba49-664719529532",
   "metadata": {},
   "outputs": [
    {
     "data": {
      "image/png": "[encoded data removed]",
      "text/plain": [
       "<Figure size 432x288 with 1 Axes>"
      ]
     },
     "metadata": {
      "needs_background": "light"
     },
     "output_type": "display_data"
    }
   ],
   "source": [
    "fig,ax = plot_losses([model_losses], degrees = degrees, y_lim=[-300, 100])"
   ]
  },
  {
   "cell_type": "code",
   "execution_count": null,
   "id": "5bbfa2b0-cdcf-40b4-b36d-b48f58b68e0f",
   "metadata": {},
   "outputs": [],
   "source": [
    "result['best_aic_A']"
   ]
  },
  {
   "cell_type": "code",
   "execution_count": null,
   "id": "dc3f0662-1059-423c-9d16-c6241744bb7d",
   "metadata": {},
   "outputs": [],
   "source": [
    "result['best_aic_B']"
   ]
  },
  {
   "cell_type": "code",
   "execution_count": null,
   "id": "79fa0f67-f93b-4f29-b3d8-769cf59ddde3",
   "metadata": {},
   "outputs": [],
   "source": [
    "save_result(folder_dir =log_root_dir, file_name='result_summary', result=result)\n",
    "with open(log_root_dir + '/' + 'lr_schedules' + '.json', \"w\") as write_file:\n",
    "    json.dump(lr_schedules_ser, write_file, cls=NumpyEncoder)\n",
    "with open(log_root_dir + '/' + 'optimizers' + '.json', \"w\") as write_file:\n",
    "    json.dump(optimizers_ser, write_file, cls=NumpyEncoder)"
   ]
  },
  {
   "cell_type": "code",
   "execution_count": 135,
   "id": "35b6e7ee-5eee-464e-8fb4-b8211fdc1fc8",
   "metadata": {},
   "outputs": [
    {
     "data": {
      "text/plain": [
       "Text(0, 0.5, '[m]')"
      ]
     },
     "execution_count": 135,
     "metadata": {},
     "output_type": "execute_result"
    },
    {
     "data": {
      "image/png": "[encoded data removed]",
      "text/plain": [
       "<Figure size 432x288 with 1 Axes>"
      ]
     },
     "metadata": {
      "needs_background": "light"
     },
     "output_type": "display_data"
    }
   ],
   "source": [
    "fig, ax = plt.subplots()\n",
    "d = np.linspace(0, 100, 1000)\n",
    "theta = 0\n",
    "sigmas_d = []\n",
    "\n",
    "#wd = (tf.math.softplus(B_d)).numpy()\n",
    "wd = (result['best_bic_B']['B_d'])\n",
    "for d_i in d:\n",
    "    sigma = np.sqrt(wd[0] + wd[1]*d_i + wd[2]* (d_i**2))\n",
    "    sigmas_d.append(sigma)\n",
    "ax.plot(d, sigmas_d, label = '${\\sigma}_{d}$', linewidth = 3)  \n",
    "ax.legend(fontsize=14)\n",
    "ax.set_xlabel(\"Distance [m]\", fontsize=14)\n",
    "ax.set_ylabel(\"[m]\", fontsize=14)"
   ]
  },
  {
   "cell_type": "code",
   "execution_count": 152,
   "id": "84a25eed-5a27-49c3-ad48-1b797e5067d0",
   "metadata": {},
   "outputs": [
    {
     "data": {
      "text/plain": [
       "Text(0, 0.5, '(m)')"
      ]
     },
     "execution_count": 152,
     "metadata": {},
     "output_type": "execute_result"
    },
    {
     "data": {
      "image/png": "[encoded data removed]",
      "text/plain": [
       "<Figure size 432x288 with 1 Axes>"
      ]
     },
     "metadata": {
      "needs_background": "light"
     },
     "output_type": "display_data"
    }
   ],
   "source": [
    "fig, ax = plt.subplots()\n",
    "d = np.linspace(0, 100, 1000)\n",
    "sigmas_lat = []\n",
    "sigmas_lon = []\n",
    "wd = np.array(result['best_aic_B']['B_lat'])\n",
    "#wd = tf.math.softplus(best_beta_lat)\n",
    "for d_i in d:\n",
    "    sigma = np.sqrt(wd[0] + wd[1]*d_i + wd[2]* (d_i**2))\n",
    "    sigmas_lat.append(sigma)\n",
    "ax.plot(d, sigmas_lat, label = '${\\sigma}_{lat}$', linewidth = 3)  \n",
    "\n",
    "\n",
    "wd = np.array(result['best_aic_B']['B_lon'])\n",
    "#wd = tf.math.softplus(best_beta_lon)\n",
    "for d_i in d:\n",
    "    sigma = np.sqrt(wd[0] + wd[1]*d_i + wd[2]* (d_i**2))\n",
    "    sigmas_lon.append(sigma)\n",
    "    \n",
    "\n",
    "ax.plot(d, sigmas_lon, label = '${\\sigma}_{lon}$', linewidth = 3) \n",
    "ax.legend(fontsize=14)\n",
    "ax.set_xlabel(\"Distance (m)\", fontsize=14)\n",
    "ax.set_ylabel(\"(m)\", fontsize=14)"
   ]
  },
  {
   "cell_type": "code",
   "execution_count": null,
   "id": "f771ab5f-3fe1-4db3-88e3-d2c7686ee57b",
   "metadata": {},
   "outputs": [],
   "source": []
  }
 ],
 "metadata": {
  "kernelspec": {
   "display_name": "Environment (conda_tensorflow2_p38)",
   "language": "python",
   "name": "conda_tensorflow2_p38"
  },
  "language_info": {
   "codemirror_mode": {
    "name": "ipython",
    "version": 3
   },
   "file_extension": ".py",
   "mimetype": "text/x-python",
   "name": "python",
   "nbconvert_exporter": "python",
   "pygments_lexer": "ipython3",
   "version": "3.8.12"
  }
 },
 "nbformat": 4,
 "nbformat_minor": 5
}
