{
 "cells": [
  {
   "cell_type": "code",
   "execution_count": 2,
   "id": "82bfcc9a-43f3-4f5d-92d7-40ef4928b48f",
   "metadata": {},
   "outputs": [],
   "source": [
    "import matplotlib.pyplot as plt\n",
    "import numpy as np\n",
    "\n",
    "import tensorflow as tf\n",
    "import tensorflow_probability as tfp\n",
    "from tensorflow_probability import distributions as tfd\n",
    "\n",
    "import warnings\n",
    "import json\n",
    "from tqdm import tqdm\n",
    "\n",
    "import os\n",
    "import gc\n",
    "\n",
    "from copy import deepcopy\n",
    "\n",
    "%load_ext tensorboard\n",
    "\n",
    "warnings.filterwarnings('ignore')\n",
    "\n",
    "tfd = tfp.distributions\n",
    "tfb = tfp.bijectors"
   ]
  },
  {
   "cell_type": "code",
   "execution_count": 3,
   "id": "1ecae62c-55d8-4dc8-9a3c-bac55c71a7c1",
   "metadata": {},
   "outputs": [
    {
     "name": "stderr",
     "output_type": "stream",
     "text": [
      "2022-08-15 07:08:14.955532: E tensorflow/stream_executor/cuda/cuda_driver.cc:271] failed call to cuInit: CUDA_ERROR_NO_DEVICE: no CUDA-capable device is detected\n"
     ]
    },
    {
     "data": {
      "text/plain": [
       "[]"
      ]
     },
     "execution_count": 3,
     "metadata": {},
     "output_type": "execute_result"
    }
   ],
   "source": [
    "tf.config.experimental.list_physical_devices('GPU')"
   ]
  },
  {
   "cell_type": "code",
   "execution_count": 4,
   "id": "c0f6aab0-a05b-4c4f-a8ab-ed3f1c47b44d",
   "metadata": {},
   "outputs": [
    {
     "data": {
      "text/plain": [
       "('0.16.0', '2.8.0')"
      ]
     },
     "execution_count": 4,
     "metadata": {},
     "output_type": "execute_result"
    }
   ],
   "source": [
    "tfp.__version__, tf.__version__"
   ]
  },
  {
   "cell_type": "markdown",
   "id": "55239ba0-0fd3-4975-a0c0-3109bb961dc6",
   "metadata": {},
   "source": [
    "# Utils Functions"
   ]
  },
  {
   "cell_type": "code",
   "execution_count": 5,
   "id": "c0eef6ba-0721-49af-842f-432c2845cbf9",
   "metadata": {},
   "outputs": [],
   "source": [
    "class NumpyEncoder(json.JSONEncoder):\n",
    "    def default(self, obj):\n",
    "        if isinstance(obj, np.ndarray):\n",
    "            return obj.tolist()\n",
    "        if isinstance(obj, np.float32):\n",
    "            return float(obj)\n",
    "        if isinstance(obj, np.int16):\n",
    "            return int(obj)\n",
    "        if isinstance(obj, np.int64):\n",
    "            return int(obj)\n",
    "        if isinstance(obj, tf.Tensor):\n",
    "            return float(obj)\n",
    "        return json.JSONEncoder.default(self, obj)"
   ]
  },
  {
   "cell_type": "code",
   "execution_count": 6,
   "id": "37b493cb-db2d-4561-aec9-46df1d0e044d",
   "metadata": {},
   "outputs": [],
   "source": [
    "def calculate_result(degree, bic_scores, aic_scores, A_list, B_list, losses, best_epochs, lr, optimizer, epochs, batch_size):\n",
    "    # BIC Results\n",
    "    best_bic_deg_idx = np.where(bic_scores == np.amin(bic_scores))[0][0]\n",
    "    best_bic_deg = degrees[best_bic_deg_idx]\n",
    "    bic_best_A = A_list[best_bic_deg_idx]\n",
    "    bic_best_B = B_list[best_bic_deg_idx]\n",
    "    best_bic = bic_scores[best_bic_deg_idx]\n",
    "    \n",
    "    # AIC Results\n",
    "    best_aic_deg_idx = np.where(aic_scores == np.amin(aic_scores))[0][0]\n",
    "    best_aic_deg = degrees[best_aic_deg_idx]\n",
    "    aic_best_A = A_list[best_aic_deg_idx]\n",
    "    aic_best_B = B_list[best_aic_deg_idx]\n",
    "    best_aic = aic_scores[best_aic_deg_idx]\n",
    "    \n",
    "    last_losses = [loss[-1] for loss in losses]\n",
    "    \n",
    "    result = {'degree': degree,\n",
    "          'losses': last_losses,\n",
    "          'A_list': A_list,\n",
    "          'B_list': B_list,\n",
    "              \n",
    "          'bic_scores': bic_scores,\n",
    "          'best_bic': best_bic,\n",
    "          'best_bic_A': bic_best_A,\n",
    "          'best_bic_B': bic_best_B,\n",
    "          'best_bic_deg': best_bic_deg,\n",
    "          'best_bic_deg_idx': best_bic_deg_idx,\n",
    "            \n",
    "          'aic_scores': aic_scores,\n",
    "          'best_aic': best_aic,\n",
    "          'best_aic_A': aic_best_A,\n",
    "          'best_aic_B': aic_best_B,\n",
    "          'best_aic_deg': best_aic_deg,\n",
    "          'best_aic_deg_idx': best_aic_deg_idx,\n",
    "              \n",
    "          'lr': lr,\n",
    "          'optimizer': optimizer,\n",
    "          'epochs': epochs,\n",
    "          'best_epochs': best_epochs,\n",
    "          'batch_size': batch_size\n",
    "        }\n",
    "    \n",
    "    return result"
   ]
  },
  {
   "cell_type": "code",
   "execution_count": 7,
   "id": "12352b59-5c93-4554-a467-95e179e34246",
   "metadata": {},
   "outputs": [],
   "source": [
    "def save_result(folder_dir, file_name, result):  \n",
    "    with open(folder_dir + '/' + file_name + '.json', \"w\") as write_file:\n",
    "        json.dump(result, write_file, cls=NumpyEncoder)"
   ]
  },
  {
   "cell_type": "code",
   "execution_count": 8,
   "id": "ee701645-55be-4bcc-9dc2-94e46377a609",
   "metadata": {},
   "outputs": [],
   "source": [
    "def nll(dist, samples):\n",
    "    \"\"\"Calculates the negative log-likelihood for a given distribution\n",
    "    and a data set.\"\"\"\n",
    "    ll = dist.log_prob(samples)\n",
    "    mask_ll = tf.boolean_mask(ll, tf.math.is_finite(ll))\n",
    "    ll = tf.where(tf.math.is_finite(ll), ll, [-1000])\n",
    "    if mask_ll.shape[0] / ll.shape[0] < 0.7:\n",
    "        print('Too much nan in one batch', mask_ll.shape[0], ll.shape[0] )\n",
    "    return -tf.reduce_mean(ll)"
   ]
  },
  {
   "cell_type": "code",
   "execution_count": 9,
   "id": "b8400541-c5c6-43a1-a8a7-bbe6cbc2fe09",
   "metadata": {},
   "outputs": [],
   "source": [
    "#@tf.function\n",
    "def get_loss_and_grads(dist, samples):\n",
    "    with tf.GradientTape() as tape:\n",
    "        tape.watch(dist.trainable_variables)\n",
    "        loss = nll(dist, samples)\n",
    "    \n",
    "    grads = tape.gradient(loss, dist.trainable_variables)\n",
    "    return loss, grads"
   ]
  },
  {
   "cell_type": "code",
   "execution_count": 10,
   "id": "65094ded-6d93-4d5b-b9c8-0f59cb3b03c2",
   "metadata": {},
   "outputs": [],
   "source": [
    "def fit_distribution(dist, samples, opti, epoch):\n",
    "    loss, grads = get_loss_and_grads(dist, samples)\n",
    "    \n",
    "    #print(grads[2])\n",
    "    if tf.math.is_finite(loss):\n",
    "        opti.apply_gradients(zip(grads, dist.trainable_variables))\n",
    "\n",
    "    return loss"
   ]
  },
  {
   "cell_type": "code",
   "execution_count": 11,
   "id": "af793ceb-24d7-4b88-a0fe-80867186be80",
   "metadata": {},
   "outputs": [],
   "source": [
    "#Expands a vector to a polynomial design matrix: from a constant to the deg-power\n",
    "def polyBasisScale(x_last, deg):\n",
    "    #Expands a vector to a polynomial design matrix: from a constant to the deg-power\n",
    "    return np.diag(np.squeeze((np.column_stack([x_last**deg for deg in range(0, deg+1)]))))"
   ]
  },
  {
   "cell_type": "code",
   "execution_count": 12,
   "id": "9f71c293-eb4c-4545-8c94-b4b056a269ad",
   "metadata": {},
   "outputs": [],
   "source": [
    "def polynomial_basis_function(x, power):\n",
    "    return x ** power"
   ]
  },
  {
   "cell_type": "code",
   "execution_count": 13,
   "id": "f5906a16-ee63-44d0-8049-b3a7bece7632",
   "metadata": {},
   "outputs": [],
   "source": [
    "def expand(x, bf, bf_args=None):\n",
    "    if bf_args is None:\n",
    "        return np.concatenate([np.ones(x.shape), bf(x)], axis=1)\n",
    "    else:\n",
    "        return np.array([np.ones(x.shape)] + [bf(x, bf_arg) for bf_arg in bf_args]).T"
   ]
  },
  {
   "cell_type": "code",
   "execution_count": 14,
   "id": "a8160fdd-639c-41f4-bbae-bcd818af64a4",
   "metadata": {},
   "outputs": [],
   "source": [
    "def plot_losses(losses, degrees, y_lim = (-50,50)):\n",
    "    fig, ax = plt.subplots()\n",
    "    for i,loss in enumerate(losses):\n",
    "        ax.plot(range(len(loss)), loss, label = str(degrees[i]))\n",
    "    \n",
    "    ax.set_ylim(y_lim)\n",
    "    ax.legend()\n",
    "\n",
    "    plt.show()\n",
    "    return fig, ax"
   ]
  },
  {
   "cell_type": "code",
   "execution_count": 15,
   "id": "1884e91f-fdc6-4e9c-9b10-88f665effb9f",
   "metadata": {},
   "outputs": [],
   "source": [
    "def generate_file_list_dataset(path_list, idx_trajs_select):\n",
    "    path_list_select = []\n",
    "\n",
    "    for root, dirs, files in os.walk(os.path.abspath(path_list)):\n",
    "        files.sort()\n",
    "    \n",
    "    files = np.array(files)\n",
    "    path_list_select_array = files[idx_trajs_select]\n",
    "    \n",
    "    for idx, file in enumerate(tqdm(path_list_select_array)):\n",
    "        path_list_select.append(os.path.join(root, path_list_select_array[idx]))\n",
    "\n",
    "    file_list_dataset = tf.data.Dataset.from_tensor_slices(path_list_select)\n",
    "    \n",
    "    return file_list_dataset"
   ]
  },
  {
   "cell_type": "code",
   "execution_count": 16,
   "id": "6e4e1764-1d04-4cee-93f5-c2c1d3d9aaaf",
   "metadata": {},
   "outputs": [],
   "source": [
    "def generate_start_indicies_dataset(start_indicies_file):\n",
    "    with open(start_indicies_file, \"r\") as read_file:\n",
    "        start_indicies_all = np.array((json.load(read_file)))\n",
    "\n",
    "    start_indicies_dataset = tf.data.Dataset.from_tensor_slices(start_indicies_all)\n",
    "    \n",
    "    return start_indicies_dataset"
   ]
  },
  {
   "cell_type": "markdown",
   "id": "a56360ee-783c-448b-b3e7-ccbed6a45a3c",
   "metadata": {},
   "source": [
    "# Load Data"
   ]
  },
  {
   "cell_type": "code",
   "execution_count": 29,
   "id": "e77da203-f8b6-4d76-b15d-0455313c7c38",
   "metadata": {},
   "outputs": [],
   "source": [
    "class DataProcessor(object):\n",
    "    def __init__(self, batch_size, dataset, num_points_in_one_traj):\n",
    "        self.batch_size = batch_size\n",
    "        self.dataset = dataset  \n",
    "        self.num_points_in_one_traj = num_points_in_one_traj\n",
    "        self.loaded_dataset = None\n",
    "    \n",
    "    def _extract_ego_trajs(self, file_path, start_idx):\n",
    "        file_str = str(file_path.numpy())[2:-1]\n",
    "        ego_trajs_all = []\n",
    "        times_all = []\n",
    "        with open(file_str, \"r\") as read_file:\n",
    "            traj_data = json.load(read_file)\n",
    "            \n",
    "        ego_traj_temp = np.array(traj_data['ego_traj'])[start_idx : start_idx+self.num_points_in_one_traj]\n",
    "        agt_traj_temp = np.array(traj_data['agt_traj'])[start_idx : start_idx+self.num_points_in_one_traj]\n",
    "        \n",
    "        d = agt_traj_temp[:, [0,1]] - ego_traj_temp[:, [0,1]] \n",
    "        \n",
    "        d_norm = np.linalg.norm(d, axis=1)\n",
    "        theta = np.arctan2(d[:,1], d[:,0]) - ego_traj_temp[:, 3]\n",
    "\n",
    "        c_ego_to_map, s_ego_to_map = np.cos(ego_traj_temp[:, 3]), np.sin(ego_traj_temp[:, 3])\n",
    "        R_ego_to_map = np.transpose(np.array(((c_ego_to_map, -s_ego_to_map), (s_ego_to_map, c_ego_to_map))), (2, 0, 1))\n",
    "        \n",
    "        agt_traj_temp = agt_traj_temp[:, :2] - agt_traj_temp[0,:2] # let agt trajectories start from zero\n",
    "        agt_traj = np.concatenate((agt_traj_temp[:, 0], agt_traj_temp[:, 1]), axis = 0)\n",
    "        #ego_traj = np.concatenate((ego_traj_temp[:, 0], ego_traj_temp[:, 1]), axis = 0)\n",
    "       \n",
    "        \n",
    "        times = np.array(traj_data['timestamp'])[start_idx: start_idx+self.num_points_in_one_traj]\n",
    "        times = times - times[0]\n",
    "        \n",
    "        times = tf.convert_to_tensor(times, dtype=tf.float32)\n",
    "        agt_traj = tf.convert_to_tensor(agt_traj, dtype=tf.float32)\n",
    "        d_norm = tf.convert_to_tensor(d_norm, dtype=tf.float32)\n",
    "        theta = tf.convert_to_tensor(theta, dtype=tf.float32)\n",
    "        R_ego_to_map = tf.convert_to_tensor(R_ego_to_map, dtype=tf.float32)\n",
    "        \n",
    "        return times, agt_traj, d_norm, theta, R_ego_to_map\n",
    "    \n",
    "    \n",
    "    def _load_data(self, file_path, start_idx):\n",
    "        return tf.py_function(self._extract_ego_trajs, [file_path, start_idx], [tf.float32, tf.float32, tf.float32, tf.float32, tf.float32])\n",
    "    \n",
    "    def load_process(self, shuffle = False):\n",
    "        self.loaded_dataset = self.dataset.map(map_func = self._load_data, num_parallel_calls=tf.data.experimental.AUTOTUNE)\n",
    "\n",
    "        self.loaded_dataset = self.loaded_dataset.cache()\n",
    "\n",
    "        # Shuffle data and create batches\n",
    "        if shuffle:\n",
    "            self.loaded_dataset = self.loaded_dataset.shuffle(buffer_size=self.loaded_dataset.__len__())\n",
    "        \n",
    "        # Set batch size for dataset\n",
    "        self.loaded_dataset = self.loaded_dataset.batch(self.batch_size)\n",
    "\n",
    "        # Make dataset fetch batches in the background during the training of the model.\n",
    "        self.loaded_dataset = self.loaded_dataset.prefetch(buffer_size=tf.data.experimental.AUTOTUNE)\n",
    "        \n",
    "    def get_batch(self):\n",
    "        return next(iter(self.loaded_dataset))"
   ]
  },
  {
   "cell_type": "code",
   "execution_count": 30,
   "id": "b64bc30a-2f10-4940-8e12-ea523e23aec3",
   "metadata": {},
   "outputs": [],
   "source": [
    "BATCH_SIZE = 1024\n",
    "EPOCHS = 50\n",
    "lr = 5e-3\n",
    "\n",
    "original_num_points_in_one_traj = 91\n",
    "num_points_in_one_traj = 31"
   ]
  },
  {
   "cell_type": "code",
   "execution_count": 31,
   "id": "8a25dd9b-d3c9-4289-9e43-5d86ceab412e",
   "metadata": {},
   "outputs": [
    {
     "name": "stderr",
     "output_type": "stream",
     "text": [
      "100%|██████████| 300000/300000 [00:00<00:00, 562423.85it/s]\n"
     ]
    },
    {
     "name": "stdout",
     "output_type": "stream",
     "text": [
      "tf.Tensor(293, shape=(), dtype=int64)\n"
     ]
    }
   ],
   "source": [
    "with open(\"data/agt_trajs_\" + str(num_points_in_one_traj) + \"_json/agt_trajs_select_non_outlier_indicies.json\", \"r\") as read_file:\n",
    "    idx_trajs_select = json.load(read_file)\n",
    "    \n",
    "#list_dataset = tf.data.Dataset.list_files(str('data/ego_trajs_json/*'), shuffle=False)\n",
    "list_dataset = generate_file_list_dataset('data/agt_trajs_json/', idx_trajs_select)\n",
    "start_idx_dataset = generate_start_indicies_dataset(\"data/agt_trajs_\" + str(num_points_in_one_traj) + \"_json/agt_trajs_start_point_indicies.json\")\n",
    "combined_dataset = tf.data.Dataset.zip((list_dataset, start_idx_dataset))\n",
    "\n",
    "dataProcessor = DataProcessor(BATCH_SIZE, combined_dataset, num_points_in_one_traj)\n",
    "dataProcessor.load_process(shuffle = True)\n",
    "\n",
    "print(dataProcessor.loaded_dataset.__len__())"
   ]
  },
  {
   "cell_type": "code",
   "execution_count": 32,
   "id": "608593fe-309a-47dd-a0fc-8993a5e0b133",
   "metadata": {},
   "outputs": [
    {
     "name": "stdout",
     "output_type": "stream",
     "text": [
      "(992, 31) (992, 62) (992, 31) (992, 31) (992, 31, 2, 2)\n"
     ]
    },
    {
     "data": {
      "image/png": "[encoded data removed]",
      "text/plain": [
       "<Figure size 432x288 with 1 Axes>"
      ]
     },
     "metadata": {
      "needs_background": "light"
     },
     "output_type": "display_data"
    },
    {
     "data": {
      "image/png": "[encoded data removed]",
      "text/plain": [
       "<Figure size 432x288 with 1 Axes>"
      ]
     },
     "metadata": {
      "needs_background": "light"
     },
     "output_type": "display_data"
    }
   ],
   "source": [
    "fig1, ax1 = plt.subplots()\n",
    "fig2, ax2 = plt.subplots()\n",
    "d_all = np.zeros((300000, num_points_in_one_traj))\n",
    "theta_all = np.zeros((300000, num_points_in_one_traj))\n",
    "start_idx = 0\n",
    "for times, agt_traj, d_norm, theta, R_ego_to_map in dataProcessor.loaded_dataset:\n",
    "    batch_size = times.shape[0]\n",
    "    d_all[start_idx:start_idx+batch_size] = d_norm\n",
    "    theta_all[start_idx:start_idx+batch_size] = theta\n",
    "    start_idx = start_idx+batch_size\n",
    "    \n",
    "ax1.hist(d_all.reshape(-1), bins = 100)\n",
    "ax1.set_title('Distance Histogram')\n",
    "ax2.hist(theta_all.reshape(-1), bins = 100)\n",
    "ax2.set_title('Theta Histogram')\n",
    "print(times.shape, agt_traj.shape, d_norm.shape, theta.shape, R_ego_to_map.shape)"
   ]
  },
  {
   "cell_type": "markdown",
   "id": "14683580-50ef-4f95-b9f1-dd2c91e96b1b",
   "metadata": {},
   "source": [
    "# Training"
   ]
  },
  {
   "cell_type": "code",
   "execution_count": 33,
   "id": "962cf4ab-30db-4c9c-a22e-ec8f86916cb1",
   "metadata": {},
   "outputs": [],
   "source": [
    "def build_mvn(alpha, beta_d, beta_theta, beta_const, phi_t, phi_d, d_norm, theta, R, num_points):\n",
    "    def mvn_agt(alpha, beta_d, beta_theta, beta_const, phi_t, phi_d, d_norm, theta, R):      \n",
    "        var_d = tf.squeeze(phi_d @ tf.math.softplus(beta_d))\n",
    "        var_theta =  tf.math.softplus(beta_theta)\n",
    "        \n",
    "        var_lon_lon = var_d * tf.math.pow(tf.math.cos(theta), 2) + var_theta * tf.math.pow(d_norm, 2) * tf.math.pow(tf.math.sin(theta), 2)\n",
    "        var_lat_lat = var_d * tf.math.pow(tf.math.sin(theta), 2) + var_theta * tf.math.pow(d_norm, 2) * tf.math.pow(tf.math.cos(theta), 2)\n",
    "        var_lon_lat = var_d * tf.math.sin(theta) * tf.math.cos(theta) - var_theta *  tf.math.pow(d_norm, 2) * tf.math.sin(theta) * tf.math.cos(theta)\n",
    "                \n",
    "        by_eye = tf.convert_to_tensor([[0,1],[1,0]], dtype=tf.float64)\n",
    "        b_lon_lat_by_diag = tf.experimental.numpy.kron(by_eye, tf.linalg.diag(var_lon_lat))\n",
    "\n",
    "        b_lon_lat_diag = tf.linalg.diag(tf.concat([var_lon_lon, var_lat_lat], axis = 1))\n",
    "        b_diag_const = tf.eye((2* num_points), dtype=tf.float64) * tf.math.softplus(beta_const)\n",
    "        b_lon_lat = b_lon_lat_diag + b_lon_lat_by_diag + b_diag_const\n",
    "\n",
    "        cov = R @ b_lon_lat @ tf.transpose(R, perm=[0, 2, 1]) + (phi_t @ alpha )  @ (tf.transpose(phi_t @ alpha, perm=[0, 2, 1]))\n",
    "        \n",
    "        return tfd.MultivariateNormalTriL(loc=tf.zeros((2* num_points), dtype = tf.float64), scale_tril=tf.linalg.cholesky(cov))\n",
    "\n",
    "    \n",
    "    return tfp.experimental.util.DeferredModule(build_fn=mvn_agt, alpha=alpha, beta_d=beta_d, beta_theta=beta_theta, beta_const = beta_const,\n",
    "                                                phi_t = phi_t, phi_d=phi_d, d_norm=d_norm, theta = theta, R=R)"
   ]
  },
  {
   "cell_type": "code",
   "execution_count": 34,
   "id": "04802dc7-1a69-4c28-8e28-b4a2fa4eb1f5",
   "metadata": {},
   "outputs": [],
   "source": [
    "def compute_AIC_BIC(nll, deg, num_points):\n",
    "    # Compute bayesian information criterion\n",
    "    degree_of_freedom = 5 + (2*deg)*(2*(deg)+1) / 2\n",
    "    bic_score = nll + 0.5 * np.log(num_points) * degree_of_freedom\n",
    "    \n",
    "    # Compute Akaike information criterion\n",
    "    aic_score = nll + degree_of_freedom\n",
    "    \n",
    "    return aic_score, bic_score"
   ]
  },
  {
   "cell_type": "code",
   "execution_count": 35,
   "id": "a4fe0d9d-119c-4439-a238-5ffd136804bd",
   "metadata": {},
   "outputs": [],
   "source": [
    "def train(alpha, beta_d, beta_theta, beta_const, opti, data_loader, epochs = 100, model_losses = [], tf_summary_writer = None, verbose = False, early_stop = True):\n",
    "    best_alpha = None\n",
    "    best_beta_d, best_beta_theta, best_beta_const = None, None, None\n",
    "    best_epoch_loss = np.inf\n",
    "    best_epoch = 0\n",
    "    t_scale_factor = (num_points_in_one_traj-1) / 10 # The time duration of one trajectory\n",
    "       \n",
    "    for epoch in tqdm(range(epochs)):\n",
    "        batch_losses = []\n",
    "        for t_samples, agt_traj_samples, d_norm_samples, theta_samples, R_samples in data_loader:\n",
    "            phi_t_batch = expand(((t_samples)/t_scale_factor), bf=polynomial_basis_function, bf_args=range(1, deg+1)).transpose((1, 0, 2))\n",
    "            phi_t_kron = np.kron(np.eye(2), phi_t_batch[:, :, 1:])\n",
    "            \n",
    "            phi_d = expand(d_norm_samples, bf=polynomial_basis_function, bf_args=range(1, 2+1)).transpose((1, 0, 2))\n",
    "            \n",
    "            R_samples = np.transpose(R_samples, (0, 2, 3, 1))\n",
    "            \n",
    "            R = np.block([[tf.linalg.diag(R_samples[:, 0, 0]), tf.linalg.diag(R_samples[:, 0, 1])],\n",
    "                          [tf.linalg.diag(R_samples[:, 1, 0]), tf.linalg.diag(R_samples[:, 1, 1])]])\n",
    "            \n",
    "            phi_t_kron = tf.cast(phi_t_kron, dtype = tf.float64)\n",
    "            phi_d = tf.cast(phi_d, dtype = tf.float64)\n",
    "            R = tf.cast(R, dtype = tf.float64)\n",
    "            d_norm_samples = tf.cast(d_norm_samples, dtype = tf.float64)\n",
    "            theta_samples = tf.cast(theta_samples, dtype = tf.float64)\n",
    "            agt_traj_samples = tf.cast(agt_traj_samples, dtype = tf.float64)\n",
    "            \n",
    "            mvn_test = build_mvn(alpha=alpha, beta_d=beta_d, beta_theta=beta_theta, beta_const=beta_const, phi_t=phi_t_kron, \n",
    "                                 phi_d=phi_d, d_norm = d_norm_samples, theta=theta_samples, R=R, num_points=num_points_in_one_traj)\n",
    "\n",
    "            batch_loss = fit_distribution(mvn_test, agt_traj_samples, optimizer, epoch)   \n",
    "            batch_losses.append(batch_loss)\n",
    "            \n",
    "            tf.keras.backend.clear_session() # clear the initiated model in this loop\n",
    "        gc.collect()\n",
    "            \n",
    "        assert not tf.math.is_nan(np.mean(batch_losses))\n",
    "        \n",
    "        epoch_loss = np.mean(batch_losses)\n",
    "        \n",
    "        if epoch_loss < best_epoch_loss:\n",
    "            best_epoch_loss = epoch_loss\n",
    "            best_epoch = epoch\n",
    "            best_alpha, best_beta_d, best_beta_theta,  best_beta_const= deepcopy(alpha), deepcopy(beta_d), deepcopy(beta_theta), deepcopy(beta_const)\n",
    "        \n",
    "        model_losses.append(epoch_loss)\n",
    "        \n",
    "        if tf_summary_writer:\n",
    "            with tf_summary_writer.as_default():\n",
    "                tf.summary.scalar('loss', np.mean(batch_losses), step=epoch)\n",
    "        \n",
    "        # Early stop if epoch loss doesn't decrease for more then 20 epochs \n",
    "        if early_stop and epoch - best_epoch >=1:\n",
    "            print('Early Stop at ' + str(epoch) + '(' + str(best_epoch) + ')' + ' epoch')\n",
    "            break\n",
    "        \n",
    "        if(epoch %5 == 0 and verbose):\n",
    "            #A_scale_mat = polyBasisScale(t_scale_factor, deg)\n",
    "            #A_scale_mat = A_scale_mat[1:, 1:]\n",
    "            #A_est = np.linalg.inv(np.kron(np.eye(2), A_scale_mat)) @ A.numpy()\n",
    "            #A_est = A_est @ A_est.T\n",
    "            print('Epoch ', epoch, ', Loss: ', model_losses[-1])\n",
    "            #print(tf.math.softplus(beta_lon), tf.math.softplus(beta_lat))\n",
    "            #print(np.diag(A_est))\n",
    "            #print('Rank: ', np.linalg.matrix_rank(mvn_test.covariance()))\n",
    "        \n",
    "    return best_epoch_loss, best_epoch, best_alpha, best_beta_d, best_beta_theta, best_beta_const"
   ]
  },
  {
   "cell_type": "code",
   "execution_count": 38,
   "id": "ec295bb5-cd46-4032-9e15-55fdbc6b53d5",
   "metadata": {
    "tags": []
   },
   "outputs": [
    {
     "name": "stdout",
     "output_type": "stream",
     "text": [
      "Trainig deg  1\n"
     ]
    },
    {
     "name": "stderr",
     "output_type": "stream",
     "text": [
      "  2%|▏         | 1/50 [00:29<24:08, 29.56s/it]"
     ]
    },
    {
     "name": "stdout",
     "output_type": "stream",
     "text": [
      "Epoch  0 , Loss:  248.85590740592409\n"
     ]
    },
    {
     "name": "stderr",
     "output_type": "stream",
     "text": [
      " 12%|█▏        | 6/50 [02:57<21:42, 29.61s/it]"
     ]
    },
    {
     "name": "stdout",
     "output_type": "stream",
     "text": [
      "Epoch  5 , Loss:  67.67743279753395\n"
     ]
    },
    {
     "name": "stderr",
     "output_type": "stream",
     "text": [
      " 22%|██▏       | 11/50 [05:27<19:25, 29.89s/it]"
     ]
    },
    {
     "name": "stdout",
     "output_type": "stream",
     "text": [
      "Epoch  10 , Loss:  58.1793358647457\n"
     ]
    },
    {
     "name": "stderr",
     "output_type": "stream",
     "text": [
      " 32%|███▏      | 16/50 [07:55<16:50, 29.72s/it]"
     ]
    },
    {
     "name": "stdout",
     "output_type": "stream",
     "text": [
      "Epoch  15 , Loss:  56.727917339428735\n"
     ]
    },
    {
     "name": "stderr",
     "output_type": "stream",
     "text": [
      " 42%|████▏     | 21/50 [10:23<14:19, 29.65s/it]"
     ]
    },
    {
     "name": "stdout",
     "output_type": "stream",
     "text": [
      "Epoch  20 , Loss:  56.205515180469725\n"
     ]
    },
    {
     "name": "stderr",
     "output_type": "stream",
     "text": [
      " 52%|█████▏    | 26/50 [12:52<11:54, 29.78s/it]"
     ]
    },
    {
     "name": "stdout",
     "output_type": "stream",
     "text": [
      "Epoch  25 , Loss:  55.9881098870867\n"
     ]
    },
    {
     "name": "stderr",
     "output_type": "stream",
     "text": [
      " 62%|██████▏   | 31/50 [15:21<09:25, 29.76s/it]"
     ]
    },
    {
     "name": "stdout",
     "output_type": "stream",
     "text": [
      "Epoch  30 , Loss:  55.90543998289453\n"
     ]
    },
    {
     "name": "stderr",
     "output_type": "stream",
     "text": [
      " 72%|███████▏  | 36/50 [17:49<06:55, 29.65s/it]"
     ]
    },
    {
     "name": "stdout",
     "output_type": "stream",
     "text": [
      "Epoch  35 , Loss:  55.87881234640489\n"
     ]
    },
    {
     "name": "stderr",
     "output_type": "stream",
     "text": [
      " 82%|████████▏ | 41/50 [20:17<04:25, 29.50s/it]"
     ]
    },
    {
     "name": "stdout",
     "output_type": "stream",
     "text": [
      "Epoch  40 , Loss:  55.86960771491998\n"
     ]
    },
    {
     "name": "stderr",
     "output_type": "stream",
     "text": [
      " 92%|█████████▏| 46/50 [22:44<01:58, 29.50s/it]"
     ]
    },
    {
     "name": "stdout",
     "output_type": "stream",
     "text": [
      "Epoch  45 , Loss:  55.86526832447703\n"
     ]
    },
    {
     "name": "stderr",
     "output_type": "stream",
     "text": [
      "100%|██████████| 50/50 [24:42<00:00, 29.65s/it]\n"
     ]
    },
    {
     "name": "stdout",
     "output_type": "stream",
     "text": [
      "1 55.86420429260956 69.59911682137232 63.86316800343174\n",
      "Trainig deg  2\n"
     ]
    },
    {
     "name": "stderr",
     "output_type": "stream",
     "text": [
      "  2%|▏         | 1/50 [00:30<24:33, 30.07s/it]"
     ]
    },
    {
     "name": "stdout",
     "output_type": "stream",
     "text": [
      "Epoch  0 , Loss:  230.6810597183281\n"
     ]
    },
    {
     "name": "stderr",
     "output_type": "stream",
     "text": [
      " 12%|█▏        | 6/50 [03:00<22:03, 30.08s/it]"
     ]
    },
    {
     "name": "stdout",
     "output_type": "stream",
     "text": [
      "Epoch  5 , Loss:  -8.438689915074761\n"
     ]
    },
    {
     "name": "stderr",
     "output_type": "stream",
     "text": [
      " 22%|██▏       | 11/50 [05:30<19:31, 30.04s/it]"
     ]
    },
    {
     "name": "stdout",
     "output_type": "stream",
     "text": [
      "Epoch  10 , Loss:  -52.85335557071933\n"
     ]
    },
    {
     "name": "stderr",
     "output_type": "stream",
     "text": [
      " 32%|███▏      | 16/50 [08:01<17:03, 30.09s/it]"
     ]
    },
    {
     "name": "stdout",
     "output_type": "stream",
     "text": [
      "Epoch  15 , Loss:  -55.000746580696614\n"
     ]
    },
    {
     "name": "stderr",
     "output_type": "stream",
     "text": [
      " 42%|████▏     | 21/50 [10:31<14:33, 30.11s/it]"
     ]
    },
    {
     "name": "stdout",
     "output_type": "stream",
     "text": [
      "Epoch  20 , Loss:  -55.4186852833566\n"
     ]
    },
    {
     "name": "stderr",
     "output_type": "stream",
     "text": [
      " 52%|█████▏    | 26/50 [13:02<12:02, 30.11s/it]"
     ]
    },
    {
     "name": "stdout",
     "output_type": "stream",
     "text": [
      "Epoch  25 , Loss:  -55.54262639595574\n"
     ]
    },
    {
     "name": "stderr",
     "output_type": "stream",
     "text": [
      " 62%|██████▏   | 31/50 [15:32<09:31, 30.07s/it]"
     ]
    },
    {
     "name": "stdout",
     "output_type": "stream",
     "text": [
      "Epoch  30 , Loss:  -55.582198682673955\n"
     ]
    },
    {
     "name": "stderr",
     "output_type": "stream",
     "text": [
      " 72%|███████▏  | 36/50 [18:02<07:00, 30.04s/it]"
     ]
    },
    {
     "name": "stdout",
     "output_type": "stream",
     "text": [
      "Epoch  35 , Loss:  -55.59797869602439\n"
     ]
    },
    {
     "name": "stderr",
     "output_type": "stream",
     "text": [
      " 82%|████████▏ | 41/50 [20:32<04:30, 30.01s/it]"
     ]
    },
    {
     "name": "stdout",
     "output_type": "stream",
     "text": [
      "Epoch  40 , Loss:  -55.60568912114647\n"
     ]
    },
    {
     "name": "stderr",
     "output_type": "stream",
     "text": [
      " 92%|█████████▏| 46/50 [23:03<02:00, 30.04s/it]"
     ]
    },
    {
     "name": "stdout",
     "output_type": "stream",
     "text": [
      "Epoch  45 , Loss:  -55.60862342978224\n"
     ]
    },
    {
     "name": "stderr",
     "output_type": "stream",
     "text": [
      "100%|██████████| 50/50 [25:03<00:00, 30.07s/it]\n"
     ]
    },
    {
     "name": "stdout",
     "output_type": "stream",
     "text": [
      "2 -55.60938171257874 -29.85632226601144 -40.611226299650035\n",
      "Trainig deg  3\n"
     ]
    },
    {
     "name": "stderr",
     "output_type": "stream",
     "text": [
      "  2%|▏         | 1/50 [00:30<24:47, 30.37s/it]"
     ]
    },
    {
     "name": "stdout",
     "output_type": "stream",
     "text": [
      "Epoch  0 , Loss:  224.2414323169541\n"
     ]
    },
    {
     "name": "stderr",
     "output_type": "stream",
     "text": [
      " 12%|█▏        | 6/50 [03:02<22:16, 30.37s/it]"
     ]
    },
    {
     "name": "stdout",
     "output_type": "stream",
     "text": [
      "Epoch  5 , Loss:  -17.876986471286216\n"
     ]
    },
    {
     "name": "stderr",
     "output_type": "stream",
     "text": [
      " 22%|██▏       | 11/50 [05:34<19:44, 30.36s/it]"
     ]
    },
    {
     "name": "stdout",
     "output_type": "stream",
     "text": [
      "Epoch  10 , Loss:  -100.05774917897118\n"
     ]
    },
    {
     "name": "stderr",
     "output_type": "stream",
     "text": [
      " 32%|███▏      | 16/50 [08:06<17:14, 30.44s/it]"
     ]
    },
    {
     "name": "stdout",
     "output_type": "stream",
     "text": [
      "Epoch  15 , Loss:  -101.94083699455213\n"
     ]
    },
    {
     "name": "stderr",
     "output_type": "stream",
     "text": [
      " 42%|████▏     | 21/50 [10:37<14:39, 30.34s/it]"
     ]
    },
    {
     "name": "stdout",
     "output_type": "stream",
     "text": [
      "Epoch  20 , Loss:  -102.19116054745643\n"
     ]
    },
    {
     "name": "stderr",
     "output_type": "stream",
     "text": [
      " 52%|█████▏    | 26/50 [13:09<12:08, 30.34s/it]"
     ]
    },
    {
     "name": "stdout",
     "output_type": "stream",
     "text": [
      "Epoch  25 , Loss:  -102.2704680000888\n"
     ]
    },
    {
     "name": "stderr",
     "output_type": "stream",
     "text": [
      " 62%|██████▏   | 31/50 [15:40<09:35, 30.31s/it]"
     ]
    },
    {
     "name": "stdout",
     "output_type": "stream",
     "text": [
      "Epoch  30 , Loss:  -102.29006531179621\n"
     ]
    },
    {
     "name": "stderr",
     "output_type": "stream",
     "text": [
      " 72%|███████▏  | 36/50 [18:12<07:05, 30.36s/it]"
     ]
    },
    {
     "name": "stdout",
     "output_type": "stream",
     "text": [
      "Epoch  35 , Loss:  -102.28968072795908\n"
     ]
    },
    {
     "name": "stderr",
     "output_type": "stream",
     "text": [
      " 82%|████████▏ | 41/50 [20:43<04:32, 30.23s/it]"
     ]
    },
    {
     "name": "stdout",
     "output_type": "stream",
     "text": [
      "Epoch  40 , Loss:  -102.28742860610585\n"
     ]
    },
    {
     "name": "stderr",
     "output_type": "stream",
     "text": [
      " 92%|█████████▏| 46/50 [23:15<02:01, 30.33s/it]"
     ]
    },
    {
     "name": "stdout",
     "output_type": "stream",
     "text": [
      "Epoch  45 , Loss:  -102.28741882661303\n"
     ]
    },
    {
     "name": "stderr",
     "output_type": "stream",
     "text": [
      "100%|██████████| 50/50 [25:16<00:00, 30.33s/it]\n"
     ]
    },
    {
     "name": "stdout",
     "output_type": "stream",
     "text": [
      "3 -102.29235981097935 -57.65163847449208 -76.29347213279898\n",
      "Trainig deg  4\n"
     ]
    },
    {
     "name": "stderr",
     "output_type": "stream",
     "text": [
      "  2%|▏         | 1/50 [00:30<24:57, 30.56s/it]"
     ]
    },
    {
     "name": "stdout",
     "output_type": "stream",
     "text": [
      "Epoch  0 , Loss:  259.88944879379625\n"
     ]
    },
    {
     "name": "stderr",
     "output_type": "stream",
     "text": [
      " 12%|█▏        | 6/50 [03:02<22:19, 30.43s/it]"
     ]
    },
    {
     "name": "stdout",
     "output_type": "stream",
     "text": [
      "Epoch  5 , Loss:  26.885255827545148\n"
     ]
    },
    {
     "name": "stderr",
     "output_type": "stream",
     "text": [
      " 22%|██▏       | 11/50 [05:35<19:46, 30.43s/it]"
     ]
    },
    {
     "name": "stdout",
     "output_type": "stream",
     "text": [
      "Epoch  10 , Loss:  -111.15314095350418\n"
     ]
    },
    {
     "name": "stderr",
     "output_type": "stream",
     "text": [
      " 32%|███▏      | 16/50 [08:08<17:21, 30.63s/it]"
     ]
    },
    {
     "name": "stdout",
     "output_type": "stream",
     "text": [
      "Epoch  15 , Loss:  -117.51140363554836\n"
     ]
    },
    {
     "name": "stderr",
     "output_type": "stream",
     "text": [
      " 42%|████▏     | 21/50 [10:41<14:48, 30.65s/it]"
     ]
    },
    {
     "name": "stdout",
     "output_type": "stream",
     "text": [
      "Epoch  20 , Loss:  -117.55350785379514\n"
     ]
    },
    {
     "name": "stderr",
     "output_type": "stream",
     "text": [
      " 52%|█████▏    | 26/50 [13:14<12:15, 30.64s/it]"
     ]
    },
    {
     "name": "stdout",
     "output_type": "stream",
     "text": [
      "Epoch  25 , Loss:  -117.55664201761022\n"
     ]
    },
    {
     "name": "stderr",
     "output_type": "stream",
     "text": [
      " 62%|██████▏   | 31/50 [15:47<09:40, 30.53s/it]"
     ]
    },
    {
     "name": "stdout",
     "output_type": "stream",
     "text": [
      "Epoch  30 , Loss:  -117.55443665845787\n"
     ]
    },
    {
     "name": "stderr",
     "output_type": "stream",
     "text": [
      " 72%|███████▏  | 36/50 [18:19<07:06, 30.44s/it]"
     ]
    },
    {
     "name": "stdout",
     "output_type": "stream",
     "text": [
      "Epoch  35 , Loss:  -117.55988154253053\n"
     ]
    },
    {
     "name": "stderr",
     "output_type": "stream",
     "text": [
      " 82%|████████▏ | 41/50 [20:52<04:36, 30.75s/it]"
     ]
    },
    {
     "name": "stdout",
     "output_type": "stream",
     "text": [
      "Epoch  40 , Loss:  -117.56469514571226\n"
     ]
    },
    {
     "name": "stderr",
     "output_type": "stream",
     "text": [
      " 92%|█████████▏| 46/50 [23:26<02:02, 30.68s/it]"
     ]
    },
    {
     "name": "stdout",
     "output_type": "stream",
     "text": [
      "Epoch  45 , Loss:  -117.56632300116608\n"
     ]
    },
    {
     "name": "stderr",
     "output_type": "stream",
     "text": [
      "100%|██████████| 50/50 [25:28<00:00, 30.57s/it]\n"
     ]
    },
    {
     "name": "stdout",
     "output_type": "stream",
     "text": [
      "4 -117.56559228340427 -47.17843212956399 -76.57516982150949\n",
      "Trainig deg  5\n"
     ]
    },
    {
     "name": "stderr",
     "output_type": "stream",
     "text": [
      "  2%|▏         | 1/50 [00:31<25:38, 31.40s/it]"
     ]
    },
    {
     "name": "stdout",
     "output_type": "stream",
     "text": [
      "Epoch  0 , Loss:  233.49367145790302\n"
     ]
    },
    {
     "name": "stderr",
     "output_type": "stream",
     "text": [
      " 12%|█▏        | 6/50 [03:07<22:52, 31.19s/it]"
     ]
    },
    {
     "name": "stdout",
     "output_type": "stream",
     "text": [
      "Epoch  5 , Loss:  -6.846346502637654\n"
     ]
    },
    {
     "name": "stderr",
     "output_type": "stream",
     "text": [
      " 22%|██▏       | 11/50 [05:43<20:16, 31.19s/it]"
     ]
    },
    {
     "name": "stdout",
     "output_type": "stream",
     "text": [
      "Epoch  10 , Loss:  -114.91367835724598\n"
     ]
    },
    {
     "name": "stderr",
     "output_type": "stream",
     "text": [
      " 32%|███▏      | 16/50 [08:19<17:42, 31.24s/it]"
     ]
    },
    {
     "name": "stdout",
     "output_type": "stream",
     "text": [
      "Epoch  15 , Loss:  -123.2419881750723\n"
     ]
    },
    {
     "name": "stderr",
     "output_type": "stream",
     "text": [
      " 42%|████▏     | 21/50 [10:55<15:05, 31.22s/it]"
     ]
    },
    {
     "name": "stdout",
     "output_type": "stream",
     "text": [
      "Epoch  20 , Loss:  -123.53367996827207\n"
     ]
    },
    {
     "name": "stderr",
     "output_type": "stream",
     "text": [
      " 52%|█████▏    | 26/50 [13:31<12:29, 31.21s/it]"
     ]
    },
    {
     "name": "stdout",
     "output_type": "stream",
     "text": [
      "Epoch  25 , Loss:  -123.596251583373\n"
     ]
    },
    {
     "name": "stderr",
     "output_type": "stream",
     "text": [
      " 62%|██████▏   | 31/50 [16:08<09:54, 31.30s/it]"
     ]
    },
    {
     "name": "stdout",
     "output_type": "stream",
     "text": [
      "Epoch  30 , Loss:  -123.61350131448285\n"
     ]
    },
    {
     "name": "stderr",
     "output_type": "stream",
     "text": [
      " 72%|███████▏  | 36/50 [18:44<07:18, 31.30s/it]"
     ]
    },
    {
     "name": "stdout",
     "output_type": "stream",
     "text": [
      "Epoch  35 , Loss:  -123.61948125830594\n"
     ]
    },
    {
     "name": "stderr",
     "output_type": "stream",
     "text": [
      " 82%|████████▏ | 41/50 [21:20<04:41, 31.28s/it]"
     ]
    },
    {
     "name": "stdout",
     "output_type": "stream",
     "text": [
      "Epoch  40 , Loss:  -123.62894294590623\n"
     ]
    },
    {
     "name": "stderr",
     "output_type": "stream",
     "text": [
      " 92%|█████████▏| 46/50 [23:57<02:05, 31.34s/it]"
     ]
    },
    {
     "name": "stdout",
     "output_type": "stream",
     "text": [
      "Epoch  45 , Loss:  -123.62469172691847\n"
     ]
    },
    {
     "name": "stderr",
     "output_type": "stream",
     "text": [
      "100%|██████████| 50/50 [26:02<00:00, 31.25s/it]\n"
     ]
    },
    {
     "name": "stdout",
     "output_type": "stream",
     "text": [
      "5 -123.6301235745979 -20.61050744004352 -63.6301235745979\n",
      "Trainig deg  6\n"
     ]
    },
    {
     "name": "stderr",
     "output_type": "stream",
     "text": [
      "  2%|▏         | 1/50 [00:31<25:58, 31.81s/it]"
     ]
    },
    {
     "name": "stdout",
     "output_type": "stream",
     "text": [
      "Epoch  0 , Loss:  236.45723932916567\n"
     ]
    },
    {
     "name": "stderr",
     "output_type": "stream",
     "text": [
      " 12%|█▏        | 6/50 [03:09<23:11, 31.63s/it]"
     ]
    },
    {
     "name": "stdout",
     "output_type": "stream",
     "text": [
      "Epoch  5 , Loss:  5.061541545890112\n"
     ]
    },
    {
     "name": "stderr",
     "output_type": "stream",
     "text": [
      " 22%|██▏       | 11/50 [05:47<20:32, 31.61s/it]"
     ]
    },
    {
     "name": "stdout",
     "output_type": "stream",
     "text": [
      "Epoch  10 , Loss:  -119.32771134214079\n"
     ]
    },
    {
     "name": "stderr",
     "output_type": "stream",
     "text": [
      " 32%|███▏      | 16/50 [08:25<17:51, 31.51s/it]"
     ]
    },
    {
     "name": "stdout",
     "output_type": "stream",
     "text": [
      "Epoch  15 , Loss:  -123.64703850272316\n"
     ]
    },
    {
     "name": "stderr",
     "output_type": "stream",
     "text": [
      " 42%|████▏     | 21/50 [11:02<15:13, 31.50s/it]"
     ]
    },
    {
     "name": "stdout",
     "output_type": "stream",
     "text": [
      "Epoch  20 , Loss:  -123.77194053390009\n"
     ]
    },
    {
     "name": "stderr",
     "output_type": "stream",
     "text": [
      " 52%|█████▏    | 26/50 [13:40<12:36, 31.53s/it]"
     ]
    },
    {
     "name": "stdout",
     "output_type": "stream",
     "text": [
      "Epoch  25 , Loss:  -123.85554706152928\n"
     ]
    },
    {
     "name": "stderr",
     "output_type": "stream",
     "text": [
      " 62%|██████▏   | 31/50 [16:18<10:00, 31.61s/it]"
     ]
    },
    {
     "name": "stdout",
     "output_type": "stream",
     "text": [
      "Epoch  30 , Loss:  -123.94841268132991\n"
     ]
    },
    {
     "name": "stderr",
     "output_type": "stream",
     "text": [
      " 72%|███████▏  | 36/50 [18:57<07:23, 31.71s/it]"
     ]
    },
    {
     "name": "stdout",
     "output_type": "stream",
     "text": [
      "Epoch  35 , Loss:  -124.09742138743339\n"
     ]
    },
    {
     "name": "stderr",
     "output_type": "stream",
     "text": [
      " 82%|████████▏ | 41/50 [21:34<04:44, 31.57s/it]"
     ]
    },
    {
     "name": "stdout",
     "output_type": "stream",
     "text": [
      "Epoch  40 , Loss:  -124.2964829108352\n"
     ]
    },
    {
     "name": "stderr",
     "output_type": "stream",
     "text": [
      " 92%|█████████▏| 46/50 [24:12<02:06, 31.59s/it]"
     ]
    },
    {
     "name": "stdout",
     "output_type": "stream",
     "text": [
      "Epoch  45 , Loss:  -124.53142633327316\n"
     ]
    },
    {
     "name": "stderr",
     "output_type": "stream",
     "text": [
      "100%|██████████| 50/50 [26:18<00:00, 31.57s/it]\n"
     ]
    },
    {
     "name": "stdout",
     "output_type": "stream",
     "text": [
      "6 -124.72812023052073 17.78234875561283 -41.72812023052073\n",
      "Trainig deg  7\n"
     ]
    },
    {
     "name": "stderr",
     "output_type": "stream",
     "text": [
      "  2%|▏         | 1/50 [00:32<26:15, 32.15s/it]"
     ]
    },
    {
     "name": "stdout",
     "output_type": "stream",
     "text": [
      "Epoch  0 , Loss:  248.963308332635\n"
     ]
    },
    {
     "name": "stderr",
     "output_type": "stream",
     "text": [
      " 12%|█▏        | 6/50 [03:12<23:34, 32.14s/it]"
     ]
    },
    {
     "name": "stdout",
     "output_type": "stream",
     "text": [
      "Epoch  5 , Loss:  14.195118167960505\n"
     ]
    },
    {
     "name": "stderr",
     "output_type": "stream",
     "text": [
      " 22%|██▏       | 11/50 [05:53<20:55, 32.18s/it]"
     ]
    },
    {
     "name": "stdout",
     "output_type": "stream",
     "text": [
      "Epoch  10 , Loss:  -113.52744265086355\n"
     ]
    },
    {
     "name": "stderr",
     "output_type": "stream",
     "text": [
      " 32%|███▏      | 16/50 [08:34<18:15, 32.21s/it]"
     ]
    },
    {
     "name": "stdout",
     "output_type": "stream",
     "text": [
      "Epoch  15 , Loss:  -124.08750686558605\n"
     ]
    },
    {
     "name": "stderr",
     "output_type": "stream",
     "text": [
      " 42%|████▏     | 21/50 [11:16<15:33, 32.20s/it]"
     ]
    },
    {
     "name": "stdout",
     "output_type": "stream",
     "text": [
      "Epoch  20 , Loss:  -125.27138496261405\n"
     ]
    },
    {
     "name": "stderr",
     "output_type": "stream",
     "text": [
      " 52%|█████▏    | 26/50 [13:56<12:51, 32.15s/it]"
     ]
    },
    {
     "name": "stdout",
     "output_type": "stream",
     "text": [
      "Epoch  25 , Loss:  -125.90485796648309\n"
     ]
    },
    {
     "name": "stderr",
     "output_type": "stream",
     "text": [
      " 62%|██████▏   | 31/50 [16:38<10:14, 32.35s/it]"
     ]
    },
    {
     "name": "stdout",
     "output_type": "stream",
     "text": [
      "Epoch  30 , Loss:  -126.2189330753625\n"
     ]
    },
    {
     "name": "stderr",
     "output_type": "stream",
     "text": [
      " 72%|███████▏  | 36/50 [19:19<07:31, 32.26s/it]"
     ]
    },
    {
     "name": "stdout",
     "output_type": "stream",
     "text": [
      "Epoch  35 , Loss:  -126.40315765203516\n"
     ]
    },
    {
     "name": "stderr",
     "output_type": "stream",
     "text": [
      " 82%|████████▏ | 41/50 [22:00<04:49, 32.15s/it]"
     ]
    },
    {
     "name": "stdout",
     "output_type": "stream",
     "text": [
      "Epoch  40 , Loss:  -126.5202717627415\n"
     ]
    },
    {
     "name": "stderr",
     "output_type": "stream",
     "text": [
      " 92%|█████████▏| 46/50 [24:42<02:09, 32.31s/it]"
     ]
    },
    {
     "name": "stdout",
     "output_type": "stream",
     "text": [
      "Epoch  45 , Loss:  -126.5914897322073\n"
     ]
    },
    {
     "name": "stderr",
     "output_type": "stream",
     "text": [
      "100%|██████████| 50/50 [26:50<00:00, 32.22s/it]\n"
     ]
    },
    {
     "name": "stdout",
     "output_type": "stream",
     "text": [
      "7 -126.63495107822149 62.234345168461545 -16.63495107822149\n",
      "Trainig deg  8\n"
     ]
    },
    {
     "name": "stderr",
     "output_type": "stream",
     "text": [
      "  2%|▏         | 1/50 [00:31<25:52, 31.68s/it]"
     ]
    },
    {
     "name": "stdout",
     "output_type": "stream",
     "text": [
      "Epoch  0 , Loss:  228.48089100747447\n"
     ]
    },
    {
     "name": "stderr",
     "output_type": "stream",
     "text": [
      " 12%|█▏        | 6/50 [03:10<23:17, 31.76s/it]"
     ]
    },
    {
     "name": "stdout",
     "output_type": "stream",
     "text": [
      "Epoch  5 , Loss:  -2.920974729693197\n"
     ]
    },
    {
     "name": "stderr",
     "output_type": "stream",
     "text": [
      " 22%|██▏       | 11/50 [05:49<20:40, 31.81s/it]"
     ]
    },
    {
     "name": "stdout",
     "output_type": "stream",
     "text": [
      "Epoch  10 , Loss:  -119.39497619100918\n"
     ]
    },
    {
     "name": "stderr",
     "output_type": "stream",
     "text": [
      " 32%|███▏      | 16/50 [08:28<18:03, 31.86s/it]"
     ]
    },
    {
     "name": "stdout",
     "output_type": "stream",
     "text": [
      "Epoch  15 , Loss:  -125.93490008728263\n"
     ]
    },
    {
     "name": "stderr",
     "output_type": "stream",
     "text": [
      " 42%|████▏     | 21/50 [11:07<15:22, 31.81s/it]"
     ]
    },
    {
     "name": "stdout",
     "output_type": "stream",
     "text": [
      "Epoch  20 , Loss:  -126.42823199079788\n"
     ]
    },
    {
     "name": "stderr",
     "output_type": "stream",
     "text": [
      " 52%|█████▏    | 26/50 [13:47<12:45, 31.88s/it]"
     ]
    },
    {
     "name": "stdout",
     "output_type": "stream",
     "text": [
      "Epoch  25 , Loss:  -126.59324152523043\n"
     ]
    },
    {
     "name": "stderr",
     "output_type": "stream",
     "text": [
      " 62%|██████▏   | 31/50 [16:26<10:03, 31.79s/it]"
     ]
    },
    {
     "name": "stdout",
     "output_type": "stream",
     "text": [
      "Epoch  30 , Loss:  -126.68277368622236\n"
     ]
    },
    {
     "name": "stderr",
     "output_type": "stream",
     "text": [
      " 72%|███████▏  | 36/50 [19:05<07:25, 31.80s/it]"
     ]
    },
    {
     "name": "stdout",
     "output_type": "stream",
     "text": [
      "Epoch  35 , Loss:  -126.73672876442961\n"
     ]
    },
    {
     "name": "stderr",
     "output_type": "stream",
     "text": [
      " 82%|████████▏ | 41/50 [21:44<04:45, 31.77s/it]"
     ]
    },
    {
     "name": "stdout",
     "output_type": "stream",
     "text": [
      "Epoch  40 , Loss:  -126.77027027545357\n"
     ]
    },
    {
     "name": "stderr",
     "output_type": "stream",
     "text": [
      " 92%|█████████▏| 46/50 [24:22<02:07, 31.79s/it]"
     ]
    },
    {
     "name": "stdout",
     "output_type": "stream",
     "text": [
      "Epoch  45 , Loss:  -126.78738621739889\n"
     ]
    },
    {
     "name": "stderr",
     "output_type": "stream",
     "text": [
      "100%|██████████| 50/50 [26:30<00:00, 31.81s/it]"
     ]
    },
    {
     "name": "stdout",
     "output_type": "stream",
     "text": [
      "8 -126.81276571812981 115.283332198073 14.18723428187019\n"
     ]
    },
    {
     "name": "stderr",
     "output_type": "stream",
     "text": [
      "\n"
     ]
    }
   ],
   "source": [
    "losses = []\n",
    "best_losses = []\n",
    "best_epoch_losses = []\n",
    "best_epochs = []\n",
    "bic_scores = []\n",
    "aic_scores = []\n",
    "A_list, B_list = [], []\n",
    "lr_schedules_ser = []\n",
    "optimizers_ser = []\n",
    "t_scale_factor = (num_points_in_one_traj-1) / 10 # The time duration of one trajectory\n",
    "log_root_dir = 'logs/gradient_tape/agt_xy_polar_plus_const_' + str(num_points_in_one_traj) + ''\n",
    "nan_batches = []\n",
    "degrees = np.linspace(1, 8, 8, dtype=np.int16) # analyse polynomial from degree 1 to 8\n",
    "#degrees = [7]\n",
    "for i_d, deg in enumerate(degrees):\n",
    "    print('Trainig deg ',deg)\n",
    "    model_losses = []\n",
    "    boundaries = [dataProcessor.loaded_dataset.__len__().numpy()*30]\n",
    "    \n",
    "    values = [0.005, 0.005]\n",
    "    \n",
    "    lr_schedule = tf.keras.optimizers.schedules.PiecewiseConstantDecay(boundaries, values)\n",
    "    optimizer = tf.keras.optimizers.Adam(learning_rate=lr)   \n",
    "    \n",
    "    lr_schedules_ser.append(tf.keras.optimizers.schedules.serialize(lr_schedule))\n",
    "    optimizers_ser.append(tf.keras.optimizers.serialize(optimizer))\n",
    "\n",
    "    A = tf.Variable(np.random.randn(2*(deg), 2*(deg))*1e-1, dtype=tf.float64, name='alpha') # Model uncertainty\n",
    "    B_d = tf.Variable(np.random.randn(3, 1), dtype=tf.float64, name='beta_d') \n",
    "    B_theta = tf.Variable(np.random.randn(1), dtype=tf.float64, name='beta_theta')\n",
    "    B_const =  tf.Variable(np.random.randn(1), dtype=tf.float64, name='beta_const')\n",
    "    \n",
    "    train_log_dir = log_root_dir + '/deg_' + str(deg)\n",
    "    train_summary_writer = tf.summary.create_file_writer(train_log_dir)  \n",
    "\n",
    "    best_epoch_loss, best_epoch, best_alpha, best_beta_d, best_beta_theta, best_beta_const = train(alpha=A, beta_d=B_d, beta_theta=B_theta, beta_const = B_const, opti=optimizer, \n",
    "                                                     epochs = EPOCHS, data_loader=dataProcessor.loaded_dataset, model_losses = model_losses, tf_summary_writer = train_summary_writer, verbose = True, early_stop=False)\n",
    "            \n",
    "    # Add loss\n",
    "    losses.append(model_losses)\n",
    "    best_epoch_losses.append([best_epoch_loss])\n",
    "    \n",
    "    # store the best epoch\n",
    "    best_epochs.append(best_epoch)\n",
    "    \n",
    "    # Compute AIC and BIC\n",
    "    aic_score, bic_score = compute_AIC_BIC(nll = best_epoch_loss, deg = deg, num_points = num_points_in_one_traj)\n",
    "\n",
    "    bic_scores.append(bic_score)\n",
    "    aic_scores.append(aic_score)\n",
    "    \n",
    "    # Compute the model uncertainty, A_unscaled = np.linalg.inv(scale_mat) @ A_scaled\n",
    "    A_scale_mat = polyBasisScale(t_scale_factor, deg)\n",
    "    A_scale_mat = A_scale_mat[1:, 1:]\n",
    "    A_est = np.linalg.inv(np.kron(np.eye(2), A_scale_mat)) @ best_alpha.numpy()\n",
    "    A_est = A_est @ A_est.T\n",
    "    A_list.append(A_est)\n",
    "    \n",
    "    # Compute the observation uncertainty, \n",
    "    B_est = {'B_d': (tf.math.softplus(best_beta_d)).numpy(), 'B_theta': (tf.math.softplus(best_beta_theta)).numpy(),'B_const': (tf.math.softplus(best_beta_const)).numpy()}\n",
    "    B_list.append(B_est)\n",
    "    print(deg, model_losses[-1], bic_score, aic_score)"
   ]
  },
  {
   "cell_type": "code",
   "execution_count": 39,
   "id": "18b71494-1ddb-4b49-a765-415e7be17d68",
   "metadata": {},
   "outputs": [],
   "source": [
    "result = calculate_result(degrees, bic_scores, aic_scores, A_list, B_list, best_epoch_losses, best_epochs, lr_schedules_ser, optimizers_ser, EPOCHS, BATCH_SIZE)"
   ]
  },
  {
   "cell_type": "code",
   "execution_count": 40,
   "id": "6f4a652e-590f-4ff5-995d-9cd16b11d4da",
   "metadata": {},
   "outputs": [
    {
     "data": {
      "image/png": "[encoded data removed]",
      "text/plain": [
       "<Figure size 432x288 with 1 Axes>"
      ]
     },
     "metadata": {
      "needs_background": "light"
     },
     "output_type": "display_data"
    }
   ],
   "source": [
    "fig,ax = plot_losses(losses, degrees = degrees, y_lim=[-300, 200])\n",
    "fig.savefig('imgs/agt_polar_' + str(num_points_in_one_traj) + '.svg')"
   ]
  },
  {
   "cell_type": "code",
   "execution_count": 27,
   "id": "f6b840b2-a8d2-4bcd-ba49-664719529532",
   "metadata": {},
   "outputs": [
    {
     "data": {
      "image/png": "[encoded data removed]",
      "text/plain": [
       "<Figure size 432x288 with 1 Axes>"
      ]
     },
     "metadata": {
      "needs_background": "light"
     },
     "output_type": "display_data"
    }
   ],
   "source": [
    "fig,ax = plot_losses([model_losses], degrees = degrees, y_lim=[-300, 100])"
   ]
  },
  {
   "cell_type": "code",
   "execution_count": 41,
   "id": "5bbfa2b0-cdcf-40b4-b36d-b48f58b68e0f",
   "metadata": {},
   "outputs": [
    {
     "data": {
      "text/plain": [
       "array([[ 3.94339629e+01,  1.16404827e-02, -9.29584282e-02,\n",
       "         7.41671924e-03, -1.08149368e+00,  1.61152348e-01,\n",
       "        -2.71617750e-03, -2.29815780e-03],\n",
       "       [ 1.16404827e-02,  4.17862715e-01, -8.69220593e-02,\n",
       "         9.17814406e-03, -1.89623895e-01,  9.42947231e-04,\n",
       "         6.54669718e-03, -7.63638853e-04],\n",
       "       [-9.29584282e-02, -8.69220593e-02,  5.44648143e-02,\n",
       "        -8.02327579e-03, -1.21727809e-03, -5.29639190e-03,\n",
       "        -5.02553850e-04,  1.64431398e-04],\n",
       "       [ 7.41671924e-03,  9.17814406e-03, -8.02327579e-03,\n",
       "         1.36162456e-03,  2.09353081e-03,  5.67036122e-04,\n",
       "        -2.78058429e-05, -7.16999214e-06],\n",
       "       [-1.08149368e+00, -1.89623895e-01, -1.21727809e-03,\n",
       "         2.09353081e-03,  4.36133058e+01, -5.98540043e-02,\n",
       "        -1.00160283e-01,  9.38994870e-03],\n",
       "       [ 1.61152348e-01,  9.42947231e-04, -5.29639190e-03,\n",
       "         5.67036122e-04, -5.98540043e-02,  4.65916147e-01,\n",
       "        -9.68304337e-02,  1.02888372e-02],\n",
       "       [-2.71617750e-03,  6.54669718e-03, -5.02553850e-04,\n",
       "        -2.78058429e-05, -1.00160283e-01, -9.68304337e-02,\n",
       "         5.93891084e-02, -8.74346822e-03],\n",
       "       [-2.29815780e-03, -7.63638853e-04,  1.64431398e-04,\n",
       "        -7.16999214e-06,  9.38994870e-03,  1.02888372e-02,\n",
       "        -8.74346822e-03,  1.48502586e-03]])"
      ]
     },
     "execution_count": 41,
     "metadata": {},
     "output_type": "execute_result"
    }
   ],
   "source": [
    "result['best_aic_A']"
   ]
  },
  {
   "cell_type": "code",
   "execution_count": 42,
   "id": "dc3f0662-1059-423c-9d16-c6241744bb7d",
   "metadata": {},
   "outputs": [
    {
     "data": {
      "text/plain": [
       "{'B_d': array([[5.91219464e-05],\n",
       "        [4.20220285e-06],\n",
       "        [6.35112276e-07]]),\n",
       " 'B_theta': array([1.13355014e-07]),\n",
       " 'B_const': array([0.0001483])}"
      ]
     },
     "execution_count": 42,
     "metadata": {},
     "output_type": "execute_result"
    }
   ],
   "source": [
    "result['best_aic_B']"
   ]
  },
  {
   "cell_type": "code",
   "execution_count": 43,
   "id": "79fa0f67-f93b-4f29-b3d8-769cf59ddde3",
   "metadata": {},
   "outputs": [],
   "source": [
    "save_result(folder_dir =log_root_dir, file_name='result_summary', result=result)\n",
    "with open(log_root_dir + '/' + 'lr_schedules' + '.json', \"w\") as write_file:\n",
    "    json.dump(lr_schedules_ser, write_file, cls=NumpyEncoder)\n",
    "with open(log_root_dir + '/' + 'optimizers' + '.json', \"w\") as write_file:\n",
    "    json.dump(optimizers_ser, write_file, cls=NumpyEncoder)"
   ]
  },
  {
   "cell_type": "code",
   "execution_count": 45,
   "id": "35b6e7ee-5eee-464e-8fb4-b8211fdc1fc8",
   "metadata": {},
   "outputs": [
    {
     "data": {
      "text/plain": [
       "Text(0, 0.5, '[m]')"
      ]
     },
     "execution_count": 45,
     "metadata": {},
     "output_type": "execute_result"
    },
    {
     "data": {
      "image/png": "[encoded data removed]",
      "text/plain": [
       "<Figure size 432x288 with 1 Axes>"
      ]
     },
     "metadata": {
      "needs_background": "light"
     },
     "output_type": "display_data"
    }
   ],
   "source": [
    "fig, ax = plt.subplots()\n",
    "d = np.linspace(0, 100, 1000)\n",
    "theta = 0\n",
    "sigmas_d = []\n",
    "\n",
    "#wd = (tf.math.softplus(B_d)).numpy()\n",
    "wd = (result['best_aic_B']['B_d'])\n",
    "for d_i in d:\n",
    "    sigma = np.sqrt(wd[0] + wd[1]*d_i + wd[2]* (d_i**2))\n",
    "    sigmas_d.append(sigma)\n",
    "ax.plot(d, sigmas_d, label = '${\\sigma}_{d}$', linewidth = 3)  \n",
    "ax.legend(fontsize=14)\n",
    "ax.set_xlabel(\"Distance [m]\", fontsize=14)\n",
    "ax.set_ylabel(\"[m]\", fontsize=14)"
   ]
  },
  {
   "cell_type": "code",
   "execution_count": 152,
   "id": "84a25eed-5a27-49c3-ad48-1b797e5067d0",
   "metadata": {},
   "outputs": [
    {
     "data": {
      "text/plain": [
       "Text(0, 0.5, '(m)')"
      ]
     },
     "execution_count": 152,
     "metadata": {},
     "output_type": "execute_result"
    },
    {
     "data": {
      "image/png": "[encoded data removed]",
      "text/plain": [
       "<Figure size 432x288 with 1 Axes>"
      ]
     },
     "metadata": {
      "needs_background": "light"
     },
     "output_type": "display_data"
    }
   ],
   "source": [
    "fig, ax = plt.subplots()\n",
    "d = np.linspace(0, 100, 1000)\n",
    "sigmas_lat = []\n",
    "sigmas_lon = []\n",
    "wd = np.array(result['best_aic_B']['B_lat'])\n",
    "#wd = tf.math.softplus(best_beta_lat)\n",
    "for d_i in d:\n",
    "    sigma = np.sqrt(wd[0] + wd[1]*d_i + wd[2]* (d_i**2))\n",
    "    sigmas_lat.append(sigma)\n",
    "ax.plot(d, sigmas_lat, label = '${\\sigma}_{lat}$', linewidth = 3)  \n",
    "\n",
    "\n",
    "wd = np.array(result['best_aic_B']['B_lon'])\n",
    "#wd = tf.math.softplus(best_beta_lon)\n",
    "for d_i in d:\n",
    "    sigma = np.sqrt(wd[0] + wd[1]*d_i + wd[2]* (d_i**2))\n",
    "    sigmas_lon.append(sigma)\n",
    "    \n",
    "\n",
    "ax.plot(d, sigmas_lon, label = '${\\sigma}_{lon}$', linewidth = 3) \n",
    "ax.legend(fontsize=14)\n",
    "ax.set_xlabel(\"Distance (m)\", fontsize=14)\n",
    "ax.set_ylabel(\"(m)\", fontsize=14)"
   ]
  },
  {
   "cell_type": "markdown",
   "id": "10b0869d-15cd-4d18-a876-048f3c01a02c",
   "metadata": {},
   "source": [
    "# Dummy Code"
   ]
  },
  {
   "cell_type": "code",
   "execution_count": 20,
   "id": "f771ab5f-3fe1-4db3-88e3-d2c7686ee57b",
   "metadata": {},
   "outputs": [],
   "source": [
    "num_points_in_one_traj = 91\n",
    "deg_to_change = 7\n",
    "idx_to_change = deg_to_change-1\n",
    "with open('logs/gradient_tape/agt_xy_polar_plus_const_' + str(num_points_in_one_traj) + '/result_summary.json', \"r\") as read_file:\n",
    "    result_old = json.load(read_file)\n",
    "          \n",
    "with open('logs/gradient_tape/agt_xy_polar_plus_const_' + str(num_points_in_one_traj) + '_only_' + str(deg_to_change) + 'th/result_summary.json', \"r\") as read_file:\n",
    "    result_sub = json.load(read_file)"
   ]
  },
  {
   "cell_type": "code",
   "execution_count": 21,
   "id": "6e9368f3-c79e-4fd0-8732-3f0a15170bed",
   "metadata": {},
   "outputs": [],
   "source": [
    "result_old['losses'][idx_to_change] = result_sub['losses'][0]\n",
    "result_old['A_list'][idx_to_change] = result_sub['A_list'][0]\n",
    "result_old['B_list'][idx_to_change] = result_sub['B_list'][0]\n",
    "\n",
    "result_old['lr'][idx_to_change] = result_sub['lr'][0]\n",
    "result_old['optimizer'][idx_to_change] = result_sub['optimizer'][0]\n",
    "\n",
    "result_old['bic_scores'][idx_to_change] = result_sub['bic_scores'][0]\n",
    "best_bic_deg_idx = np.where(result_old['bic_scores'] == np.amin(result_old['bic_scores']))[0][0]\n",
    "result_old['best_bic'] = result_old['bic_scores'][best_bic_deg_idx]\n",
    "result_old['best_bic_A'] = result_old['A_list'][best_bic_deg_idx]\n",
    "result_old['best_bic_B'] = result_old['B_list'][best_bic_deg_idx]\n",
    "result_old['best_bic_deg'] = result_old['degree'][best_bic_deg_idx]\n",
    "result_old['best_bic_deg_idx'] = best_bic_deg_idx\n",
    "\n",
    "\n",
    "result_old['aic_scores'][idx_to_change] = result_sub['aic_scores'][0]\n",
    "best_aic_deg_idx = np.where(result_old['aic_scores'] == np.amin(result_old['aic_scores']))[0][0]\n",
    "result_old['best_aic'] = result_old['aic_scores'][best_aic_deg_idx]\n",
    "result_old['best_aic_A'] = result_old['A_list'][best_aic_deg_idx]\n",
    "result_old['best_aic_B'] = result_old['B_list'][best_aic_deg_idx]\n",
    "result_old['best_aic_deg'] = result_old['degree'][best_aic_deg_idx]\n",
    "result_old['best_aic_deg_idx'] = best_aic_deg_idx\n",
    "\n",
    "with open('logs/gradient_tape/agt_xy_polar_plus_const_' + str(num_points_in_one_traj) + '/result_summary_new.json', \"w\") as write_file:\n",
    "    json.dump(result_old, write_file, cls=NumpyEncoder)"
   ]
  },
  {
   "cell_type": "code",
   "execution_count": null,
   "id": "6d098f88-7883-4fc3-92e6-1f8493aa5cc5",
   "metadata": {},
   "outputs": [],
   "source": []
  }
 ],
 "metadata": {
  "kernelspec": {
   "display_name": "Environment (conda_tensorflow2_p38)",
   "language": "python",
   "name": "conda_tensorflow2_p38"
  },
  "language_info": {
   "codemirror_mode": {
    "name": "ipython",
    "version": 3
   },
   "file_extension": ".py",
   "mimetype": "text/x-python",
   "name": "python",
   "nbconvert_exporter": "python",
   "pygments_lexer": "ipython3",
   "version": "3.8.12"
  }
 },
 "nbformat": 4,
 "nbformat_minor": 5
}
